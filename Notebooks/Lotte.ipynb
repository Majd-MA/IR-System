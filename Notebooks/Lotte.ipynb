{
  "cells": [
    {
      "cell_type": "markdown",
      "metadata": {
        "id": "IR5KEE4EwVlm"
      },
      "source": [
        "# Dataset Installization & Pips"
      ]
    },
    {
      "cell_type": "code",
      "execution_count": null,
      "metadata": {
        "id": "KiddBo4dwN9j"
      },
      "outputs": [],
      "source": [
        "!pip install ir_datasets"
      ]
    },
    {
      "cell_type": "code",
      "execution_count": null,
      "metadata": {
        "id": "Kj-bt7te6iDz"
      },
      "outputs": [],
      "source": [
        "pip install inflect"
      ]
    },
    {
      "cell_type": "code",
      "execution_count": null,
      "metadata": {
        "id": "m18m1zax-DNO"
      },
      "outputs": [],
      "source": [
        "pip install sentence-transformers"
      ]
    },
    {
      "cell_type": "code",
      "execution_count": null,
      "metadata": {
        "id": "Qz8-vlsT-Dys"
      },
      "outputs": [],
      "source": [
        "!pip install langchain-community"
      ]
    },
    {
      "cell_type": "code",
      "execution_count": null,
      "metadata": {
        "id": "4x6lQ1-3-EE0"
      },
      "outputs": [],
      "source": [
        "pip install chromadb"
      ]
    },
    {
      "cell_type": "code",
      "execution_count": 2,
      "metadata": {
        "id": "mb60dgXbxPb-"
      },
      "outputs": [],
      "source": [
        "import ir_datasets\n",
        "dataset = ir_datasets.load(\"lotte/science/dev/forum\")"
      ]
    },
    {
      "cell_type": "code",
      "execution_count": null,
      "metadata": {
        "id": "aChOufwZY8Yb"
      },
      "outputs": [],
      "source": [
        "for doc in dataset.docs_iter():\n",
        "    doc\n",
        "    break"
      ]
    },
    {
      "cell_type": "markdown",
      "metadata": {
        "id": "q0hC_RKKxJ1a"
      },
      "source": [
        "# Google Drive"
      ]
    },
    {
      "cell_type": "code",
      "execution_count": null,
      "metadata": {
        "id": "0Je6xCGVxLU6"
      },
      "outputs": [],
      "source": [
        "from google.colab import drive\n",
        "drive.mount('/content/drive')"
      ]
    },
    {
      "cell_type": "markdown",
      "metadata": {
        "id": "D-8exnM39npr"
      },
      "source": [
        "#Imports\n"
      ]
    },
    {
      "cell_type": "code",
      "execution_count": 16,
      "metadata": {
        "colab": {
          "base_uri": "https://localhost:8080/"
        },
        "id": "L8gd-vFY9prz",
        "outputId": "ffe1e7f0-8a86-4eca-c6c0-a22108de7bd3"
      },
      "outputs": [
        {
          "output_type": "stream",
          "name": "stderr",
          "text": [
            "[nltk_data] Downloading package stopwords to /root/nltk_data...\n",
            "[nltk_data]   Package stopwords is already up-to-date!\n",
            "[nltk_data] Downloading package punkt to /root/nltk_data...\n",
            "[nltk_data]   Package punkt is already up-to-date!\n",
            "[nltk_data] Downloading package wordnet to /root/nltk_data...\n",
            "[nltk_data]   Package wordnet is already up-to-date!\n",
            "[nltk_data] Downloading package averaged_perceptron_tagger to\n",
            "[nltk_data]     /root/nltk_data...\n",
            "[nltk_data]   Package averaged_perceptron_tagger is already up-to-\n",
            "[nltk_data]       date!\n"
          ]
        },
        {
          "output_type": "execute_result",
          "data": {
            "text/plain": [
              "True"
            ]
          },
          "metadata": {},
          "execution_count": 16
        }
      ],
      "source": [
        "import nltk\n",
        "import pandas as pd\n",
        "import math\n",
        "import string\n",
        "import numpy as np\n",
        "\n",
        "\n",
        "from nltk import pos_tag\n",
        "from nltk.corpus import wordnet\n",
        "from nltk.corpus import stopwords\n",
        "from nltk.stem import PorterStemmer\n",
        "from nltk.tokenize import word_tokenize\n",
        "from nltk.tokenize import word_tokenize\n",
        "from collections import defaultdict\n",
        "from nltk.stem import WordNetLemmatizer\n",
        "from sklearn.feature_extraction.text import TfidfVectorizer\n",
        "from sklearn.metrics.pairwise import cosine_similarity\n",
        "\n",
        "nltk.download('stopwords')\n",
        "stopwords.words('english')\n",
        "nltk.download('punkt')\n",
        "nltk.download('wordnet')\n",
        "nltk.download('averaged_perceptron_tagger')\n"
      ]
    },
    {
      "cell_type": "markdown",
      "metadata": {
        "id": "6gjlF4Sk2024"
      },
      "source": [
        "# Classes"
      ]
    },
    {
      "cell_type": "code",
      "execution_count": null,
      "metadata": {
        "id": "EGgecI0Z24A5"
      },
      "outputs": [],
      "source": [
        "class GenericDoc:\n",
        "  def __init__(self, doc_id, text):\n",
        "    self.doc_id = doc_id\n",
        "    self.text = text\n",
        "\n",
        "  def __str__(self):\n",
        "    return f\"GenericDoc(doc_id:'{self.doc_id}', text:\\\" {self.text}\\\")\"\n",
        "\n",
        "  def key(self):\n",
        "    return self.doc_id\n",
        "\n",
        "  def value(self):\n",
        "    return self.text"
      ]
    },
    {
      "cell_type": "markdown",
      "metadata": {
        "id": "mUQKTGbB7zND"
      },
      "source": [
        "#Methods"
      ]
    },
    {
      "cell_type": "markdown",
      "metadata": {
        "id": "tQN358_J74cS"
      },
      "source": [
        "##Stop Words"
      ]
    },
    {
      "cell_type": "code",
      "execution_count": null,
      "metadata": {
        "id": "3G-GudWr716D"
      },
      "outputs": [],
      "source": [
        "def remove_stop_words(doc_id,words):\n",
        "  res=[]\n",
        "  for word in words:\n",
        "   word = word.replace(\" \", \"\")\n",
        "   if word not in stopwords.words('english') and word:\n",
        "      res.append(word)\n",
        "  return res"
      ]
    },
    {
      "cell_type": "markdown",
      "metadata": {
        "id": "uRMue295_vBy"
      },
      "source": [
        "## Unknown Words"
      ]
    },
    {
      "cell_type": "code",
      "execution_count": null,
      "metadata": {
        "id": "qTwnbGHK_0L6"
      },
      "outputs": [],
      "source": [
        "def remove_unknown_words(words):\n",
        "  res = []\n",
        "  spell = SpellChecker()\n",
        "  misspelled = spell.unknown(words)\n",
        "  for word in words:\n",
        "    if word not in misspelled:\n",
        "      res.append(word)\n",
        "  return res"
      ]
    },
    {
      "cell_type": "markdown",
      "metadata": {
        "id": "Tsv5hDVZApE9"
      },
      "source": [
        "##Stemming"
      ]
    },
    {
      "cell_type": "code",
      "execution_count": null,
      "metadata": {
        "id": "jKVBypQtArKq"
      },
      "outputs": [],
      "source": [
        "def stemming(words):\n",
        "  stemming_words =[]\n",
        "  stemmer = PorterStemmer()\n",
        "  for word in words:\n",
        "    temp = stemmer.stem(word)\n",
        "    if len(temp) > 1:\n",
        "      stemming_words.append(temp)\n",
        "    else:\n",
        "      if temp.isnumeric():\n",
        "       stemming_words.append(temp)\n",
        "\n",
        "  return stemming_words"
      ]
    },
    {
      "cell_type": "markdown",
      "metadata": {
        "id": "1Cse5oY8B9FD"
      },
      "source": [
        "## POS"
      ]
    },
    {
      "cell_type": "code",
      "execution_count": null,
      "metadata": {
        "id": "47Y21MDyB4FK"
      },
      "outputs": [],
      "source": [
        "def get_wordnet_pos(tag_parameter):\n",
        "\n",
        "    tag = tag_parameter[0].upper()\n",
        "    tag_dict = {\"J\": wordnet.ADJ,\n",
        "                \"N\": wordnet.NOUN,\n",
        "                \"V\": wordnet.VERB,\n",
        "                \"R\": wordnet.ADV}\n",
        "\n",
        "    return tag_dict.get(tag, wordnet.NOUN)"
      ]
    },
    {
      "cell_type": "markdown",
      "metadata": {
        "id": "IHHnkP5hBbTr"
      },
      "source": [
        "##Lemmatization"
      ]
    },
    {
      "cell_type": "code",
      "execution_count": null,
      "metadata": {
        "id": "xKg31p57BdBK"
      },
      "outputs": [],
      "source": [
        "def lemmatization(words,pos_tags):\n",
        "\n",
        "  # Lemmatization\n",
        "  lemmatizer = WordNetLemmatizer()\n",
        "  lemmatized_words = [lemmatizer.lemmatize(word, pos=get_wordnet_pos(tag)) for word, tag in pos_tags]\n",
        "  return lemmatized_words"
      ]
    },
    {
      "cell_type": "markdown",
      "metadata": {
        "id": "c0xkPBcoEg9f"
      },
      "source": []
    },
    {
      "cell_type": "markdown",
      "metadata": {
        "id": "WgYtDqvzEh1F"
      },
      "source": [
        "## Regex"
      ]
    },
    {
      "cell_type": "code",
      "execution_count": null,
      "metadata": {
        "id": "CZwrxs2a_E3S"
      },
      "outputs": [],
      "source": [
        "import re"
      ]
    },
    {
      "cell_type": "code",
      "execution_count": null,
      "metadata": {
        "id": "ERuqd3vNEj-t"
      },
      "outputs": [],
      "source": [
        "def remove_special_characters(words): # Word Level\n",
        "    res = []\n",
        "    for word in words:\n",
        "        cleaned_word = re.sub(r'[^A-Za-z0-9]+', '', word)\n",
        "        res.append(cleaned_word)\n",
        "    return res"
      ]
    },
    {
      "cell_type": "code",
      "execution_count": null,
      "metadata": {
        "id": "iUIRzFd3G9zr"
      },
      "outputs": [],
      "source": [
        "def ARSC(text): # Document Level\n",
        "  return re.sub(r'[^A-Za-z0-9]+', ' ', text)"
      ]
    },
    {
      "cell_type": "markdown",
      "metadata": {
        "id": "043jcI0p5Pnb"
      },
      "source": [
        "## Numbers To Words"
      ]
    },
    {
      "cell_type": "code",
      "execution_count": null,
      "metadata": {
        "id": "UVZTOytn5Ugh"
      },
      "outputs": [],
      "source": [
        "from dataclasses import replace\n",
        "import inflect\n",
        "\n",
        "def numberToWord(words):\n",
        "    p = inflect.engine()\n",
        "    res = []\n",
        "    for word in words:\n",
        "        try:\n",
        "            if word.isnumeric():\n",
        "                word = p.number_to_words(int(word), decimal=\" \", andword=\" \")\n",
        "                word = re.sub(r' ','_',word)\n",
        "                res.append(word)\n",
        "            else:\n",
        "                res.append(word)\n",
        "        except Exception as e:\n",
        "            pass\n",
        "    return res\n"
      ]
    },
    {
      "cell_type": "markdown",
      "metadata": {
        "id": "z9B7_zmJrrau"
      },
      "source": [
        "# Storing"
      ]
    },
    {
      "cell_type": "code",
      "execution_count": 4,
      "metadata": {
        "id": "CjS2vw10rvTf"
      },
      "outputs": [],
      "source": [
        "import pickle\n",
        "\n",
        "def save(vectorizer, path):\n",
        "    with open(path, \"wb\") as f:\n",
        "        pickle.dump(vectorizer, f)\n",
        "\n",
        "def load(path):\n",
        "    with open(path, \"rb\") as f:\n",
        "        return pickle.load(f)"
      ]
    },
    {
      "cell_type": "markdown",
      "metadata": {
        "id": "IdIFzGY11xFr"
      },
      "source": [
        "# Text Processing"
      ]
    },
    {
      "cell_type": "code",
      "execution_count": null,
      "metadata": {
        "id": "PxS2bzhR10Lw"
      },
      "outputs": [],
      "source": [
        "stop_words = set(stopwords.words('english'))\n",
        "def process(document):\n",
        "\n",
        "    doc_id, doc = document\n",
        "\n",
        "    # Lower\n",
        "    doc = doc.lower().strip()\n",
        "\n",
        "    #ARSC\n",
        "    doc = ARSC(doc)\n",
        "\n",
        "    # Tokenize into words\n",
        "    words = word_tokenize(doc)\n",
        "\n",
        "    # POS\n",
        "    pos = pos_tag(words)\n",
        "\n",
        "    # Stop Words\n",
        "    words = [word for word in words if word not in stop_words]\n",
        "\n",
        "    # Lemmatization\n",
        "    words = lemmatization(words,pos)\n",
        "\n",
        "    # Stemming\n",
        "    words = stemming(words)\n",
        "\n",
        "    # Number To Word\n",
        "    words = numberToWord(words)\n",
        "\n",
        "    return doc_id, ' '.join(words)\n"
      ]
    },
    {
      "cell_type": "markdown",
      "metadata": {
        "id": "IR7t-v-u2bAb"
      },
      "source": [
        "# Clean Data"
      ]
    },
    {
      "cell_type": "markdown",
      "metadata": {
        "id": "MvBXkzLPmKy1"
      },
      "source": [
        "## Train\n"
      ]
    },
    {
      "cell_type": "code",
      "execution_count": null,
      "metadata": {
        "id": "_adAx4uA9oPz"
      },
      "outputs": [],
      "source": [
        "cleand_data= []\n",
        "data_names= []"
      ]
    },
    {
      "cell_type": "code",
      "execution_count": null,
      "metadata": {
        "id": "RBNQD9eemdBt"
      },
      "outputs": [],
      "source": [
        "def clean(docs):\n",
        "  temp_data = []\n",
        "  temp_names = []\n",
        "  for doc in docs:\n",
        "    name, res = process(doc)\n",
        "    temp_names.append(doc.doc_id)\n",
        "    temp_data.append(res)\n",
        "  data_names.extend(temp_names)\n",
        "  cleand_data.extend(temp_data)"
      ]
    },
    {
      "cell_type": "code",
      "execution_count": null,
      "metadata": {
        "id": "YAeRgwSMmotM"
      },
      "outputs": [],
      "source": [
        "clean(dataset.docs_iter()[:34364])"
      ]
    },
    {
      "cell_type": "code",
      "execution_count": null,
      "metadata": {
        "id": "wB3JPdAsrstV"
      },
      "outputs": [],
      "source": [
        "clean(dataset.docs_iter()[34364:68728])"
      ]
    },
    {
      "cell_type": "code",
      "execution_count": null,
      "metadata": {
        "id": "0hWNn7AsswOV"
      },
      "outputs": [],
      "source": [
        "clean(dataset.docs_iter()[68728:103092])"
      ]
    },
    {
      "cell_type": "code",
      "execution_count": null,
      "metadata": {
        "id": "Il7XNCSZszbE"
      },
      "outputs": [],
      "source": [
        "clean(dataset.docs_iter()[103092:137456])"
      ]
    },
    {
      "cell_type": "code",
      "execution_count": null,
      "metadata": {
        "id": "IF0KAiRxs3Zs"
      },
      "outputs": [],
      "source": [
        "clean(dataset.docs_iter()[137456:171820])"
      ]
    },
    {
      "cell_type": "code",
      "execution_count": null,
      "metadata": {
        "id": "auZ0Bi7Hs3yd"
      },
      "outputs": [],
      "source": [
        "clean(dataset.docs_iter()[171820:206184])"
      ]
    },
    {
      "cell_type": "code",
      "execution_count": null,
      "metadata": {
        "id": "ZKiTGMXCs4Kk"
      },
      "outputs": [],
      "source": [
        "clean(dataset.docs_iter()[206184:240548])"
      ]
    },
    {
      "cell_type": "code",
      "execution_count": null,
      "metadata": {
        "id": "AJr_u3Z2s4lk"
      },
      "outputs": [],
      "source": [
        "clean(dataset.docs_iter()[240548:274912])"
      ]
    },
    {
      "cell_type": "code",
      "execution_count": null,
      "metadata": {
        "id": "yPNQp19Ls5BU"
      },
      "outputs": [],
      "source": [
        "clean(dataset.docs_iter()[274912:309276])"
      ]
    },
    {
      "cell_type": "code",
      "execution_count": null,
      "metadata": {
        "id": "wCkAi4KLs5yN"
      },
      "outputs": [],
      "source": [
        "clean(dataset.docs_iter()[309276:343640])"
      ]
    },
    {
      "cell_type": "code",
      "execution_count": null,
      "metadata": {
        "id": "jJt1JQPStXS9"
      },
      "outputs": [],
      "source": [
        "clean(dataset.docs_iter()[343640:343642])"
      ]
    },
    {
      "cell_type": "code",
      "execution_count": null,
      "metadata": {
        "id": "2PPSw-IC6vta"
      },
      "outputs": [],
      "source": [
        "save(cleand_data, \"/content/drive/My Drive/IR/lotte/cleand_data.pkl\")\n",
        "save(data_names,\"/content/drive/My Drive/IR/lotte/data_names.pkl\")"
      ]
    },
    {
      "cell_type": "markdown",
      "metadata": {
        "id": "URbd-bxs2gmb"
      },
      "source": [
        "## Load Clean Data"
      ]
    },
    {
      "cell_type": "code",
      "execution_count": null,
      "metadata": {
        "id": "J5s8b9DS2jVM"
      },
      "outputs": [],
      "source": [
        "cleand_data = load(\"/content/drive/My Drive/IR/lotte/cleand_data.pkl\")\n",
        "data_names = load(\"/content/drive/My Drive/IR/lotte/data_names.pkl\")"
      ]
    },
    {
      "cell_type": "code",
      "execution_count": null,
      "metadata": {
        "id": "Tf3jAF4L5BXS"
      },
      "outputs": [],
      "source": [
        "lotte_queries = []\n",
        "for id , query in dataset.queries_iter():\n",
        "  lotte_queries.append(query)\n",
        "\n",
        "save(lotte_queries, \"/content/drive/My Drive/IR/lotte/lotte_queries.pkl\")"
      ]
    },
    {
      "cell_type": "markdown",
      "metadata": {
        "id": "NZEbITjzNC9M"
      },
      "source": [
        "# Qrels"
      ]
    },
    {
      "cell_type": "code",
      "execution_count": 5,
      "metadata": {
        "id": "eUXAKjmMNF6j"
      },
      "outputs": [],
      "source": [
        "qrels = []\n",
        "for q in dataset.qrels_iter():\n",
        "  qrels.append(q)"
      ]
    },
    {
      "cell_type": "markdown",
      "metadata": {
        "id": "63gJPaEs78aK"
      },
      "source": []
    },
    {
      "cell_type": "markdown",
      "metadata": {
        "id": "HMY1FMkND7c2"
      },
      "source": [
        "# Evaluation Methods\n"
      ]
    },
    {
      "cell_type": "code",
      "execution_count": 6,
      "metadata": {
        "id": "8Eiq7ruZSlGK"
      },
      "outputs": [],
      "source": [
        "def calculate_relevant_count( retrieved_docs, query_docs):\n",
        "    intersect_values = np.intersect1d(retrieved_docs, query_docs)\n",
        "    matched_count = len(intersect_values)\n",
        "    return matched_count"
      ]
    },
    {
      "cell_type": "code",
      "execution_count": 7,
      "metadata": {
        "id": "mWXpOR4LSbhe"
      },
      "outputs": [],
      "source": [
        "def getDocsByQid(qrels, queryId):\n",
        "    relevant_docs = []\n",
        "    flag: bool = False\n",
        "    for qid, doc_id, relevance, iteration in qrels:\n",
        "        if qid == queryId:\n",
        "            flag = True\n",
        "            relevant_docs.append(doc_id)\n",
        "        elif flag:\n",
        "            break;\n",
        "        else:\n",
        "            continue\n",
        "    return relevant_docs"
      ]
    },
    {
      "cell_type": "code",
      "execution_count": 8,
      "metadata": {
        "id": "QUs3nNg6Rowt"
      },
      "outputs": [],
      "source": [
        "def average_precision(retrieved_docs, relevant_docs, k=10):\n",
        "    total_precisions = 0\n",
        "    curr_relavant = 1\n",
        "    if len(relevant_docs) == 0:\n",
        "        return 0\n",
        "    if len(retrieved_docs) <= k:\n",
        "        k = len(retrieved_docs)\n",
        "    for i in range(k):\n",
        "        if retrieved_docs[i] in relevant_docs:\n",
        "            total_precisions += curr_relavant / (i + 1)\n",
        "            curr_relavant += 1\n",
        "    matched = calculate_relevant_count(retrieved_docs[:k], relevant_docs)\n",
        "\n",
        "    if matched == 0:\n",
        "        return 0\n",
        "    return total_precisions / matched"
      ]
    },
    {
      "cell_type": "code",
      "execution_count": 9,
      "metadata": {
        "id": "PZVn8bFxRiOE"
      },
      "outputs": [],
      "source": [
        "def calculate_map( queries, qrles):\n",
        "    total_ap = 0\n",
        "    for query_id, docs in queries.items():\n",
        "      retrieved_docs= queries.get(query_id)[:10]\n",
        "      relevant_docs=getDocsByQid(qrels,query_id)\n",
        "      avg= average_precision(retrieved_docs, relevant_docs)\n",
        "      total_ap += avg\n",
        "\n",
        "    map_score = total_ap / len(queries)\n",
        "    return map_score"
      ]
    },
    {
      "cell_type": "code",
      "execution_count": 10,
      "metadata": {
        "id": "3IXHjbo_Frj1"
      },
      "outputs": [],
      "source": [
        "def get_first_matched_position(qrles, queries):\n",
        "    for query_id in queries:\n",
        "        docs_list = queries[query_id]\n",
        "        queries[query_id] = docs_list[:10]\n",
        "    matched_positions = {}\n",
        "    for query_id in queries:\n",
        "        matched_positions[query_id] = -1\n",
        "        for i, doc in enumerate(queries[query_id]):\n",
        "            if doc in getDocsByQid(qrles,query_id):\n",
        "                matched_positions[query_id] = i\n",
        "                break\n",
        "    return matched_positions"
      ]
    },
    {
      "cell_type": "code",
      "execution_count": 11,
      "metadata": {
        "id": "NWPNOe4SFrj2"
      },
      "outputs": [],
      "source": [
        "def mean_reciprocal_rank(qrels, queries):\n",
        "    matched_positions = get_first_matched_position(qrels, queries)\n",
        "    total_rr = 0\n",
        "    for query_id, matched_position in matched_positions.items():\n",
        "        if matched_position == -1:\n",
        "            total_rr += 0\n",
        "            continue\n",
        "        total_rr += (1 / (int(matched_position) + 1))\n",
        "    mrr = (total_rr) * (1 / len(qrels))\n",
        "    return mrr"
      ]
    },
    {
      "cell_type": "code",
      "execution_count": 12,
      "metadata": {
        "id": "PRrcEZO05j_T"
      },
      "outputs": [],
      "source": [
        "def precisionAtTen(query_id, queries):\n",
        "    retrieved_docs= queries.get(query_id)[:10]\n",
        "    relevant_docs=getDocsByQid(qrels,query_id)\n",
        "    number_of_relevant_docs = calculate_relevant_count(retrieved_docs, relevant_docs)\n",
        "    precision = number_of_relevant_docs / 10\n",
        "    return precision"
      ]
    },
    {
      "cell_type": "code",
      "execution_count": 13,
      "metadata": {
        "id": "RpkKxh4RAHxS"
      },
      "outputs": [],
      "source": [
        "def recall(query_id, queries, k = 0):\n",
        "  if(k==0):\n",
        "    retrieved_docs= queries.get(query_id)\n",
        "  else:\n",
        "    retrieved_docs= queries.get(query_id)[:k]\n",
        "\n",
        "  relevant_docs=getDocsByQid(qrels,query_id)\n",
        "  number_of_relevant_docs = calculate_relevant_count(retrieved_docs, relevant_docs)\n",
        "  recall_value = number_of_relevant_docs / len(relevant_docs)\n",
        "  return recall_value"
      ]
    },
    {
      "cell_type": "markdown",
      "metadata": {
        "id": "IjI4-U2QxCnn"
      },
      "source": [
        "# Vectorizer & TFIDF Matrix\n"
      ]
    },
    {
      "cell_type": "markdown",
      "metadata": {
        "id": "xlKXhDZsCaHQ"
      },
      "source": [
        "## ReCalculate Values"
      ]
    },
    {
      "cell_type": "code",
      "execution_count": null,
      "metadata": {
        "id": "q2fKa78f1h8J"
      },
      "outputs": [],
      "source": [
        "# vectorizer\n",
        "vectorizer = TfidfVectorizer(\n",
        "    # max_df = 0.2,\n",
        "    # min_df = 1\n",
        ")\n",
        "\n",
        "\n",
        "\n",
        "# TFIDF Matrix\n",
        "tfidf_matrix = vectorizer.fit_transform(cleand_data)\n",
        "\n",
        "\n",
        "# Saving\n",
        "save(vectorizer, \"/content/drive/My Drive/IR/lotte/vectorizer.pkl\")\n",
        "save(tfidf_matrix, \"/content/drive/My Drive/IR/lotte/tfidf_matrix.pkl\")\n"
      ]
    },
    {
      "cell_type": "markdown",
      "metadata": {
        "id": "M-iRcUt0Cv5Y"
      },
      "source": [
        "## Load Calculated Values"
      ]
    },
    {
      "cell_type": "code",
      "execution_count": null,
      "metadata": {
        "id": "RC4C89-3C4Ey"
      },
      "outputs": [],
      "source": [
        "# Loading\n",
        "vectorizer = load(\"/content/drive/My Drive/IR/lotte/vectorizer.pkl\")\n",
        "tfidf_matrix = load(\"/content/drive/My Drive/IR/lotte/tfidf_matrix.pkl\")"
      ]
    },
    {
      "cell_type": "markdown",
      "metadata": {
        "id": "VtO2CO8MMlfq"
      },
      "source": [
        "## Matching"
      ]
    },
    {
      "cell_type": "markdown",
      "metadata": {
        "id": "9PttwlsnHW1z"
      },
      "source": [
        "### Basic Match"
      ]
    },
    {
      "cell_type": "code",
      "execution_count": null,
      "metadata": {
        "id": "r6R1WCoiMpKV"
      },
      "outputs": [],
      "source": [
        "import numpy as np\n",
        "def match_query(query):\n",
        "    query_tfidf = vectorizer.transform([query])\n",
        "    query_vector = query_tfidf.toarray()[0]\n",
        "    similarity = cosine_similarity(query_vector.reshape(1, -1), tfidf_matrix).flatten()\n",
        "    sorted_indices = np.argsort(similarity)[::-1]\n",
        "    sorted_documents = [(data_names[i]) for i in sorted_indices if similarity[i] > 0]\n",
        "    return sorted_documents"
      ]
    },
    {
      "cell_type": "markdown",
      "metadata": {
        "id": "5f9gqWP9HN9X"
      },
      "source": [
        "### Match with Length Normaliztion"
      ]
    },
    {
      "cell_type": "code",
      "execution_count": null,
      "metadata": {
        "colab": {
          "base_uri": "https://localhost:8080/"
        },
        "id": "Fiq7mvvCFjo0",
        "outputId": "45ad5fbb-2faf-4758-f680-ed21563a35da"
      },
      "outputs": [
        {
          "data": {
            "text/plain": [
              "343642"
            ]
          },
          "execution_count": 24,
          "metadata": {},
          "output_type": "execute_result"
        }
      ],
      "source": [
        "doc_lengths =[]\n",
        "for data in cleand_data:\n",
        "  doc_lengths.append(len(data))\n",
        "\n",
        "len(doc_lengths)"
      ]
    },
    {
      "cell_type": "code",
      "execution_count": null,
      "metadata": {
        "id": "iZBxsty9HNTe"
      },
      "outputs": [],
      "source": [
        "import numpy as np\n",
        "def match_query_length_normalization(query):\n",
        "    query_tfidf = vectorizer.transform([query])\n",
        "    query_vector = query_tfidf.toarray()[0]\n",
        "    similarity = cosine_similarity(query_vector.reshape(1, -1), tfidf_matrix).flatten()\n",
        "    normalized_similarity = np.array([sim * length if length > 0 else 0 for sim, length in zip(similarity, doc_lengths)])\n",
        "    sorted_indices = np.argsort(normalized_similarity)[::-1]  # Reverse the indices for descending sort\n",
        "    sorted_documents = [(data_names[i]) for i in sorted_indices[:10] if similarity[i] > 0]\n",
        "\n",
        "    return sorted_documents"
      ]
    },
    {
      "cell_type": "markdown",
      "metadata": {
        "id": "e1g-XsAkztJc"
      },
      "source": [
        "## Query Results"
      ]
    },
    {
      "cell_type": "markdown",
      "metadata": {
        "id": "wjtH1sjgz2nT"
      },
      "source": [
        "### Calculate & Save"
      ]
    },
    {
      "cell_type": "code",
      "execution_count": null,
      "metadata": {
        "id": "f3XlWrklMvCb"
      },
      "outputs": [],
      "source": [
        "query_results = {}\n",
        "i=0\n",
        "for query in dataset.queries_iter():\n",
        "    i+=1\n",
        "    print(i)\n",
        "    query_name, cleaned_query = process(query)\n",
        "    result_value = match_query(cleaned_query)\n",
        "    query_results[query_name] = result_value\n",
        "\n",
        "save(query_results, \"/content/drive/My Drive/IR/lotte/query_results.pkl\")"
      ]
    },
    {
      "cell_type": "markdown",
      "metadata": {
        "id": "mRDPXG_Az-jc"
      },
      "source": [
        "### Load"
      ]
    },
    {
      "cell_type": "code",
      "execution_count": 14,
      "metadata": {
        "id": "6Oo8_D7Q0DA0"
      },
      "outputs": [],
      "source": [
        "query_results = load(\"/content/drive/My Drive/IR/lotte/query_results.pkl\")"
      ]
    },
    {
      "cell_type": "markdown",
      "metadata": {
        "id": "u-hge-mGb0yV"
      },
      "source": [
        "# Word Embeding"
      ]
    },
    {
      "cell_type": "markdown",
      "metadata": {
        "id": "L8McdfQs9HHM"
      },
      "source": [
        "## Word2Vec"
      ]
    },
    {
      "cell_type": "code",
      "execution_count": null,
      "metadata": {
        "id": "hAVx_7c2c8_T"
      },
      "outputs": [],
      "source": [
        "import numpy as np\n",
        "\n",
        "def get_embedding_vector(model, doc_tokens, size=300):\n",
        "    if not doc_tokens:\n",
        "        return np.zeros(size)\n",
        "\n",
        "    embeddings = []\n",
        "    for tok in doc_tokens:\n",
        "        if tok in model.wv:\n",
        "            embeddings.append(model.wv[tok])\n",
        "        else:\n",
        "            embeddings.append(np.zeros(size))\n",
        "\n",
        "    if embeddings:\n",
        "        embeddings = np.asarray(embeddings)\n",
        "        vector = np.mean(embeddings, axis=0)\n",
        "    else:\n",
        "        return np.zeros(size)\n",
        "\n",
        "    return vector\n"
      ]
    },
    {
      "cell_type": "markdown",
      "metadata": {
        "id": "ODqGodEAb-uD"
      },
      "source": [
        "### Train"
      ]
    },
    {
      "cell_type": "code",
      "execution_count": null,
      "metadata": {
        "id": "MiN2rv0Jf0vk"
      },
      "outputs": [],
      "source": [
        "from nltk.tokenize import word_tokenize\n",
        "import numpy as np\n",
        "\n",
        "tokenized_documents = [word_tokenize(doc) for doc in cleand_data if isinstance(doc, str)]\n"
      ]
    },
    {
      "cell_type": "code",
      "execution_count": null,
      "metadata": {
        "id": "zufwSZwsb7Br"
      },
      "outputs": [],
      "source": [
        "from gensim.models import Word2Vec\n",
        "\n",
        "vector_size = 300\n",
        "epochs = 20\n",
        "workers = 2\n",
        "\n",
        "\n",
        "print('training word2vec')\n",
        "model = Word2Vec(tokenized_documents, vector_size=vector_size, sg=1, workers=workers, epochs=epochs)\n",
        "\n",
        "print('storing word2vec model')\n",
        "model.save(\"/content/drive/My Drive/IR/lotte/wbModel.pkl\")\n",
        "\n"
      ]
    },
    {
      "cell_type": "code",
      "execution_count": null,
      "metadata": {
        "colab": {
          "base_uri": "https://localhost:8080/"
        },
        "id": "iKwv1XMAKhVb",
        "outputId": "357605fb-63a5-4cec-d20a-861d67bdf8b0"
      },
      "outputs": [
        {
          "name": "stdout",
          "output_type": "stream",
          "text": [
            "calculating document vectors\n",
            "storing documents vectors\n",
            "training model has ended\n"
          ]
        }
      ],
      "source": [
        "print('calculating document vectors')\n",
        "document_vectors = [get_embedding_vector(model, doc_tokens) for doc_tokens in tokenized_documents]\n",
        "\n",
        "print('storing documents vectors')\n",
        "save(document_vectors, \"/content/drive/My Drive/IR/lotte/document_vectors.pkl\")\n",
        "print('training model has ended')"
      ]
    },
    {
      "cell_type": "code",
      "execution_count": null,
      "metadata": {
        "id": "TqezBzqglPxv"
      },
      "outputs": [],
      "source": [
        "from gensim.models import Word2Vec\n",
        "model = Word2Vec.load(\"/content/drive/My Drive/IR/lotte/wbModel.pkl\")\n",
        "document_vectors = load(\"/content/drive/My Drive/IR/lotte/document_vectors.pkl\")"
      ]
    },
    {
      "cell_type": "markdown",
      "metadata": {
        "id": "tWTpQcLDdHOt"
      },
      "source": [
        "### Matching"
      ]
    },
    {
      "cell_type": "code",
      "execution_count": null,
      "metadata": {
        "id": "nT9T_luVfHWa"
      },
      "outputs": [],
      "source": [
        "def WEmatchingAndRanking(query):\n",
        "    retrived = []\n",
        "    # Tokenize\n",
        "    query_tokens = word_tokenize(query)\n",
        "\n",
        "    # Query Embedding Vector\n",
        "    query_vector = get_embedding_vector(model, query_tokens)\n",
        "\n",
        "    # Cosine Similarity\n",
        "    similarity_scores =  cosine_similarity([query_vector], document_vectors)[0]\n",
        "\n",
        "    # Sort By Similarity\n",
        "    sorted_docs = np.argsort(similarity_scores)[::-1]\n",
        "\n",
        "    # Get Top 10 Answers\n",
        "    retrived = [(data_names[i]) for i in sorted_docs[:10]]\n",
        "\n",
        "    return retrived"
      ]
    },
    {
      "cell_type": "markdown",
      "metadata": {
        "id": "VgRTuIjuoeop"
      },
      "source": [
        "### Query Results"
      ]
    },
    {
      "cell_type": "code",
      "execution_count": null,
      "metadata": {
        "id": "waK1ID_cmdeV"
      },
      "outputs": [],
      "source": [
        "import re\n",
        "WE_query_results = {}\n",
        "\n",
        "for query in dataset.queries_iter():\n",
        "    query_name, cleaned_query = process(query)\n",
        "    result_value = WEmatchingAndRanking(cleaned_query)\n",
        "    WE_query_results[query_name] = result_value\n",
        "\n",
        "save(WE_query_results, \"/content/drive/My Drive/IR/lotte/WE_query_results.pkl\")"
      ]
    },
    {
      "cell_type": "markdown",
      "metadata": {
        "id": "ujdWaqfYgxQA"
      },
      "source": [
        "### W2V Map"
      ]
    },
    {
      "cell_type": "code",
      "execution_count": null,
      "metadata": {
        "colab": {
          "base_uri": "https://localhost:8080/"
        },
        "id": "wyklZ-VT58ta",
        "outputId": "de0debdd-8557-4b28-a2fe-295505617f5c"
      },
      "outputs": [
        {
          "data": {
            "text/plain": [
              "0.14159764488121224"
            ]
          },
          "execution_count": 38,
          "metadata": {},
          "output_type": "execute_result"
        }
      ],
      "source": [
        "Map = calculate_map(WE_query_results, qrels)\n",
        "Map"
      ]
    },
    {
      "cell_type": "markdown",
      "metadata": {
        "id": "BvF3oAFSFb2Q"
      },
      "source": [
        "## Hugging Face Embedding"
      ]
    },
    {
      "cell_type": "code",
      "execution_count": null,
      "metadata": {
        "id": "RE8Xb6X36pUA"
      },
      "outputs": [],
      "source": [
        "from langchain_community.embeddings import HuggingFaceEmbeddings\n",
        "model_kwargs = {'device': 'cpu'}\n",
        "encode_kwargs = {'normalize_embeddings': False}\n",
        "model = \"sentence-transformers/multi-qa-MiniLM-L6-cos-v1\"\n",
        "embeddings = HuggingFaceEmbeddings(\n",
        "    model_name=model,\n",
        "    model_kwargs=model_kwargs,\n",
        "    encode_kwargs=encode_kwargs,\n",
        "    show_progress=\"true\"\n",
        ")"
      ]
    },
    {
      "cell_type": "code",
      "execution_count": null,
      "metadata": {
        "id": "v87z_bUVulCw"
      },
      "outputs": [],
      "source": [
        "embeddings_list = []"
      ]
    },
    {
      "cell_type": "code",
      "execution_count": null,
      "metadata": {
        "id": "giOqp9uE21Sh"
      },
      "outputs": [],
      "source": [
        "embeddings_list.extend(embeddings.embed_documents(cleand_data))"
      ]
    },
    {
      "cell_type": "code",
      "execution_count": null,
      "metadata": {
        "id": "M_3PZC5f4Cy3"
      },
      "outputs": [],
      "source": [
        "save(embeddings_list, \"/content/drive/My Drive/IR/lotte/Lembeddings_list.pkl\")"
      ]
    },
    {
      "cell_type": "markdown",
      "metadata": {
        "id": "haPa11WnIhTA"
      },
      "source": [
        "### Load"
      ]
    },
    {
      "cell_type": "code",
      "execution_count": null,
      "metadata": {
        "id": "03fdgpJ6IdJQ"
      },
      "outputs": [],
      "source": [
        "embeddings_list = load(\"/content/drive/My Drive/IR/lotte/Lembeddings_list.pkl\")"
      ]
    },
    {
      "cell_type": "markdown",
      "metadata": {
        "id": "R5cbdYxP-esL"
      },
      "source": [
        "# Vector Store"
      ]
    },
    {
      "cell_type": "markdown",
      "metadata": {
        "id": "x5F7tXO9KHLo"
      },
      "source": [
        "## Chroma"
      ]
    },
    {
      "cell_type": "code",
      "execution_count": null,
      "metadata": {
        "id": "S1UbdN7SFAsR"
      },
      "outputs": [],
      "source": [
        "import chromadb\n",
        "chroma_client = chromadb.Client()"
      ]
    },
    {
      "cell_type": "code",
      "execution_count": null,
      "metadata": {
        "id": "xFVDmjvLFmLl"
      },
      "outputs": [],
      "source": [
        "# chroma_client.delete_collection(name=\"lotte\")\n",
        "collection = chroma_client.create_collection(name=\"lotte\")"
      ]
    },
    {
      "cell_type": "code",
      "execution_count": null,
      "metadata": {
        "id": "QAFal9-GFoVB"
      },
      "outputs": [],
      "source": [
        "# Split your data into smaller batches\n",
        "batch_size = 1000  # Adjust this based on your specific data size\n",
        "num_documents = len(cleand_data)  # Replace with the actual number of documents\n",
        "\n",
        "for i in range(0, num_documents, batch_size):\n",
        "    batch_data = cleand_data[i : i + batch_size]\n",
        "    batch_names = data_names[i : i + batch_size]\n",
        "    batch_embeddings = embeddings_list[i : i + batch_size]\n",
        "\n",
        "    # Add the batch to the collection\n",
        "    collection.add(\n",
        "        documents=batch_data,\n",
        "        ids=batch_names,\n",
        "        embeddings=batch_embeddings\n",
        "    )"
      ]
    },
    {
      "cell_type": "markdown",
      "metadata": {
        "id": "SK6LNGm9IFcS"
      },
      "source": [
        "## Matching & Ranking"
      ]
    },
    {
      "cell_type": "code",
      "execution_count": null,
      "metadata": {
        "id": "Y8bMavLrF1IF"
      },
      "outputs": [],
      "source": [
        "def matchingAndRanking(query):\n",
        "  query_embedding_list = embeddings.embed_query(query)\n",
        "  results = collection.query(\n",
        "      query_embeddings=query_embedding_list,\n",
        "      n_results=150,\n",
        "  )\n",
        "  return results[\"ids\"][0]"
      ]
    },
    {
      "cell_type": "markdown",
      "metadata": {
        "id": "skKYuMyCJ4n4"
      },
      "source": [
        "## Queries Results"
      ]
    },
    {
      "cell_type": "code",
      "execution_count": null,
      "metadata": {
        "id": "ShlWmuEGFBlg"
      },
      "outputs": [],
      "source": [
        "lang_query_results = {}\n",
        "\n",
        "for query_name, query in dataset.queries_iter():\n",
        "    result_value = matchingAndRanking(query)\n",
        "    lang_query_results[query_name] = result_value\n",
        "\n",
        "save(lang_query_results, \"/content/drive/My Drive/IR/lotte/lang_query_results.pkl\")"
      ]
    },
    {
      "cell_type": "markdown",
      "metadata": {
        "id": "5XM6UUf4Vqq0"
      },
      "source": [
        "### Load"
      ]
    },
    {
      "cell_type": "code",
      "execution_count": 18,
      "metadata": {
        "id": "eyiZ6do6Vv_k"
      },
      "outputs": [],
      "source": [
        "lang_query_results = load(\"/content/drive/My Drive/IR/lotte/lang_query_results.pkl\")"
      ]
    },
    {
      "cell_type": "markdown",
      "metadata": {
        "id": "uJaxBb_DvCIY"
      },
      "source": [
        "# Metrics Without Word embedding"
      ]
    },
    {
      "cell_type": "markdown",
      "metadata": {
        "id": "2-SEjyPQ1HQ7"
      },
      "source": [
        "## Recall"
      ]
    },
    {
      "cell_type": "code",
      "execution_count": null,
      "metadata": {
        "id": "fEINdjOivAva"
      },
      "outputs": [],
      "source": [
        "queries_recall = []\n",
        "\n",
        "for id, query in dataset.queries_iter():\n",
        "  queries_recall.append(recall(id, query_results))\n"
      ]
    },
    {
      "cell_type": "code",
      "execution_count": null,
      "metadata": {
        "colab": {
          "base_uri": "https://localhost:8080/",
          "height": 564
        },
        "id": "6baDkCOSTTPu",
        "outputId": "7b3bb5f4-44a7-41db-c72a-25ab0dc5c060"
      },
      "outputs": [
        {
          "data": {
            "image/png": "[encoded data removed]",
            "text/plain": [
              "<Figure size 1000x600 with 1 Axes>"
            ]
          },
          "metadata": {},
          "output_type": "display_data"
        }
      ],
      "source": [
        "import matplotlib.pyplot as plt\n",
        "queries = range(1, len(queries_recall)+1)\n",
        "\n",
        "plt.figure(figsize=(10, 6))\n",
        "plt.bar(queries, queries_recall, color='skyblue', edgecolor='black')\n",
        "plt.xlabel('Query Number')\n",
        "plt.ylabel('Recall Value')\n",
        "plt.title('Recall')\n",
        "plt.grid(axis='y')\n",
        "plt.show()\n"
      ]
    },
    {
      "cell_type": "markdown",
      "metadata": {
        "id": "jSVgBizi1Lbk"
      },
      "source": [
        "## Precision@10"
      ]
    },
    {
      "cell_type": "code",
      "execution_count": null,
      "metadata": {
        "id": "Cx31wnJP1POB"
      },
      "outputs": [],
      "source": [
        "queries_PrecisionTen= []\n",
        "for id, query in dataset.queries_iter():\n",
        "  queries_PrecisionTen.append(precisionAtTen(id, query_results))"
      ]
    },
    {
      "cell_type": "code",
      "execution_count": null,
      "metadata": {
        "colab": {
          "base_uri": "https://localhost:8080/",
          "height": 564
        },
        "id": "eT7XjUWw-z6r",
        "outputId": "58c51529-e7b0-4939-b80c-ec921624c6b6"
      },
      "outputs": [
        {
          "data": {
            "image/png": "[encoded data removed]",
            "text/plain": [
              "<Figure size 1000x600 with 1 Axes>"
            ]
          },
          "metadata": {},
          "output_type": "display_data"
        }
      ],
      "source": [
        "import matplotlib.pyplot as plt\n",
        "queries = range(1, len(queries_recall)+1)\n",
        "\n",
        "plt.figure(figsize=(10, 6))\n",
        "plt.bar(queries, queries_PrecisionTen, color='skyblue', edgecolor='black')\n",
        "plt.xlabel('Query Number')\n",
        "plt.ylabel('Precision Value')\n",
        "plt.title('Precision@10')\n",
        "plt.grid(axis='y')\n",
        "plt.show()"
      ]
    },
    {
      "cell_type": "markdown",
      "metadata": {
        "id": "Y5NRxNs41PkI"
      },
      "source": [
        "## MAP"
      ]
    },
    {
      "cell_type": "code",
      "execution_count": 17,
      "metadata": {
        "colab": {
          "base_uri": "https://localhost:8080/"
        },
        "id": "MRIhIeRS5bTv",
        "outputId": "ffba0f7e-75c6-4a4b-a554-c537d2bc9010"
      },
      "outputs": [
        {
          "output_type": "execute_result",
          "data": {
            "text/plain": [
              "0.2267039395103408"
            ]
          },
          "metadata": {},
          "execution_count": 17
        }
      ],
      "source": [
        "Map = calculate_map(query_results, qrels)\n",
        "Map"
      ]
    },
    {
      "cell_type": "markdown",
      "metadata": {
        "id": "3evirSUv1UlY"
      },
      "source": [
        "## MRR"
      ]
    },
    {
      "cell_type": "code",
      "execution_count": null,
      "metadata": {
        "colab": {
          "base_uri": "https://localhost:8080/"
        },
        "id": "itHFNm54bPx8",
        "outputId": "33575b8f-b023-47c5-d746-02feb2e7d540"
      },
      "outputs": [
        {
          "data": {
            "text/plain": [
              "0.04089817520467017"
            ]
          },
          "execution_count": 58,
          "metadata": {},
          "output_type": "execute_result"
        }
      ],
      "source": [
        "MRR = mean_reciprocal_rank(qrels, query_results)\n",
        "MRR"
      ]
    },
    {
      "cell_type": "markdown",
      "metadata": {
        "id": "So_XJjGfXgsN"
      },
      "source": [
        "# Metrics With Word embedding"
      ]
    },
    {
      "cell_type": "markdown",
      "metadata": {
        "id": "EGo7Ii6cXxIC"
      },
      "source": [
        "## Recall"
      ]
    },
    {
      "cell_type": "code",
      "execution_count": null,
      "metadata": {
        "id": "5ZXx7YUzXxIK"
      },
      "outputs": [],
      "source": [
        "queries_recall = []\n",
        "\n",
        "for id, query in dataset.queries_iter():\n",
        "  queries_recall.append(recall(id, lang_query_results))\n"
      ]
    },
    {
      "cell_type": "code",
      "execution_count": null,
      "metadata": {
        "colab": {
          "base_uri": "https://localhost:8080/",
          "height": 564
        },
        "id": "7v9EVAimXxIL",
        "outputId": "c88f05d7-b8a7-4299-8aee-289e685eab00"
      },
      "outputs": [
        {
          "data": {
            "image/png": "[encoded data removed]",
            "text/plain": [
              "<Figure size 1000x600 with 1 Axes>"
            ]
          },
          "metadata": {},
          "output_type": "display_data"
        }
      ],
      "source": [
        "import matplotlib.pyplot as plt\n",
        "queries = range(1, len(queries_recall)+1)\n",
        "\n",
        "plt.figure(figsize=(10, 6))\n",
        "plt.bar(queries, queries_recall, color='skyblue', edgecolor='black')\n",
        "plt.xlabel('Query Number')\n",
        "plt.ylabel('Recall Value')\n",
        "plt.title('Recall')\n",
        "plt.grid(axis='y')\n",
        "plt.show()"
      ]
    },
    {
      "cell_type": "markdown",
      "metadata": {
        "id": "Q8TXBVjpXxIL"
      },
      "source": [
        "## Precision@10"
      ]
    },
    {
      "cell_type": "code",
      "execution_count": null,
      "metadata": {
        "id": "LOS5S2pqXxIL"
      },
      "outputs": [],
      "source": [
        "queries_PrecisionTen= []\n",
        "for id, query in dataset.queries_iter():\n",
        "  queries_PrecisionTen.append(precisionAtTen(id, lang_query_results))"
      ]
    },
    {
      "cell_type": "code",
      "execution_count": null,
      "metadata": {
        "colab": {
          "base_uri": "https://localhost:8080/",
          "height": 564
        },
        "id": "KXkvTxQbXxIL",
        "outputId": "edd64007-ba83-4225-d021-3e72e4ca6b84"
      },
      "outputs": [
        {
          "data": {
            "image/png": "[encoded data removed]",
            "text/plain": [
              "<Figure size 1000x600 with 1 Axes>"
            ]
          },
          "metadata": {},
          "output_type": "display_data"
        }
      ],
      "source": [
        "import matplotlib.pyplot as plt\n",
        "queries = range(1, len(queries_recall)+1)\n",
        "\n",
        "plt.figure(figsize=(10, 6))\n",
        "plt.bar(queries, queries_PrecisionTen, color='skyblue', edgecolor='black')\n",
        "plt.xlabel('Query Number')\n",
        "plt.ylabel('Precision Value')\n",
        "plt.title('Precision@10')\n",
        "plt.grid(axis='y')\n",
        "plt.show()"
      ]
    },
    {
      "cell_type": "markdown",
      "metadata": {
        "id": "APRLbQ_h4-nJ"
      },
      "source": [
        "## Map"
      ]
    },
    {
      "cell_type": "code",
      "execution_count": 20,
      "metadata": {
        "colab": {
          "base_uri": "https://localhost:8080/"
        },
        "id": "VDrVXceC5JQK",
        "outputId": "b9879da7-8b3e-4015-f41e-4778ff2acb62"
      },
      "outputs": [
        {
          "output_type": "execute_result",
          "data": {
            "text/plain": [
              "0.2889596113233241"
            ]
          },
          "metadata": {},
          "execution_count": 20
        }
      ],
      "source": [
        "Map = calculate_map(lang_query_results, qrels)\n",
        "Map"
      ]
    },
    {
      "cell_type": "markdown",
      "metadata": {
        "id": "Fiolj8GuH8k9"
      },
      "source": [
        "## MRR"
      ]
    },
    {
      "cell_type": "code",
      "execution_count": null,
      "metadata": {
        "colab": {
          "base_uri": "https://localhost:8080/"
        },
        "id": "PQujHFWUH-5e",
        "outputId": "829b7c8a-2fcc-420a-e4b5-e27269a6bddc"
      },
      "outputs": [
        {
          "data": {
            "text/plain": [
              "0.053001107269300546"
            ]
          },
          "execution_count": 18,
          "metadata": {},
          "output_type": "execute_result"
        }
      ],
      "source": [
        "MRR = mean_reciprocal_rank(qrels, lang_query_results)\n",
        "MRR"
      ]
    }
  ],
  "metadata": {
    "colab": {
      "collapsed_sections": [
        "IR5KEE4EwVlm",
        "q0hC_RKKxJ1a",
        "D-8exnM39npr",
        "6gjlF4Sk2024",
        "mUQKTGbB7zND",
        "tQN358_J74cS",
        "uRMue295_vBy",
        "Tsv5hDVZApE9",
        "1Cse5oY8B9FD",
        "IHHnkP5hBbTr",
        "WgYtDqvzEh1F",
        "043jcI0p5Pnb",
        "z9B7_zmJrrau",
        "IdIFzGY11xFr",
        "IR7t-v-u2bAb",
        "MvBXkzLPmKy1",
        "NZEbITjzNC9M",
        "HMY1FMkND7c2",
        "xlKXhDZsCaHQ",
        "M-iRcUt0Cv5Y",
        "VtO2CO8MMlfq",
        "9PttwlsnHW1z",
        "5f9gqWP9HN9X",
        "wjtH1sjgz2nT",
        "mRDPXG_Az-jc",
        "u-hge-mGb0yV",
        "L8McdfQs9HHM",
        "BvF3oAFSFb2Q",
        "haPa11WnIhTA",
        "x5F7tXO9KHLo",
        "SK6LNGm9IFcS",
        "skKYuMyCJ4n4",
        "2-SEjyPQ1HQ7",
        "jSVgBizi1Lbk",
        "Y5NRxNs41PkI",
        "3evirSUv1UlY",
        "EGo7Ii6cXxIC",
        "Q8TXBVjpXxIL",
        "APRLbQ_h4-nJ",
        "Fiolj8GuH8k9"
      ],
      "provenance": []
    },
    "kernelspec": {
      "display_name": "Python 3",
      "name": "python3"
    },
    "language_info": {
      "name": "python"
    }
  },
  "nbformat": 4,
  "nbformat_minor": 0
}