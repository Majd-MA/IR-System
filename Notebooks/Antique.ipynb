{
  "cells": [
    {
      "cell_type": "markdown",
      "metadata": {
        "id": "IR5KEE4EwVlm"
      },
      "source": [
        "# Dataset Installization & Pips"
      ]
    },
    {
      "cell_type": "code",
      "execution_count": null,
      "metadata": {
        "id": "KiddBo4dwN9j"
      },
      "outputs": [],
      "source": [
        "pip install --upgrade ir_datasets"
      ]
    },
    {
      "cell_type": "code",
      "execution_count": 2,
      "metadata": {
        "id": "mb60dgXbxPb-"
      },
      "outputs": [],
      "source": [
        "import ir_datasets\n",
        "dataset = ir_datasets.load(\"antique/train\")"
      ]
    },
    {
      "cell_type": "code",
      "execution_count": null,
      "metadata": {
        "id": "Kj-bt7te6iDz"
      },
      "outputs": [],
      "source": [
        "pip install inflect"
      ]
    },
    {
      "cell_type": "code",
      "source": [
        "pip install --upgrade sentence-transformers"
      ],
      "metadata": {
        "id": "m18m1zax-DNO"
      },
      "execution_count": null,
      "outputs": []
    },
    {
      "cell_type": "code",
      "source": [
        "!pip install langchain-community"
      ],
      "metadata": {
        "id": "Qz8-vlsT-Dys"
      },
      "execution_count": null,
      "outputs": []
    },
    {
      "cell_type": "code",
      "source": [
        "!pip install chromadb"
      ],
      "metadata": {
        "id": "4x6lQ1-3-EE0"
      },
      "execution_count": null,
      "outputs": []
    },
    {
      "cell_type": "markdown",
      "metadata": {
        "id": "q0hC_RKKxJ1a"
      },
      "source": [
        "# Google Drive"
      ]
    },
    {
      "cell_type": "code",
      "execution_count": null,
      "metadata": {
        "colab": {
          "base_uri": "https://localhost:8080/"
        },
        "id": "0Je6xCGVxLU6",
        "outputId": "b84e69ac-3af8-46e1-fb41-0c03d432e213"
      },
      "outputs": [
        {
          "name": "stdout",
          "output_type": "stream",
          "text": [
            "Mounted at /content/drive\n"
          ]
        }
      ],
      "source": [
        "from google.colab import drive\n",
        "drive.mount('/content/drive')"
      ]
    },
    {
      "cell_type": "markdown",
      "metadata": {
        "id": "D-8exnM39npr"
      },
      "source": [
        "#Imports\n"
      ]
    },
    {
      "cell_type": "code",
      "execution_count": null,
      "metadata": {
        "id": "L8gd-vFY9prz"
      },
      "outputs": [],
      "source": [
        "import nltk\n",
        "import pandas as pd\n",
        "import math\n",
        "import string\n",
        "import re\n",
        "import time\n",
        "import gensim\n",
        "import numpy as np\n",
        "\n",
        "from nltk import pos_tag\n",
        "from nltk.corpus import wordnet\n",
        "from nltk.corpus import stopwords\n",
        "from nltk.stem import PorterStemmer\n",
        "from nltk.tokenize import word_tokenize\n",
        "from nltk.tokenize import word_tokenize\n",
        "from collections import defaultdict\n",
        "from nltk.stem import WordNetLemmatizer\n",
        "from sklearn.feature_extraction.text import TfidfVectorizer\n",
        "from sklearn.metrics.pairwise import cosine_similarity\n",
        "\n",
        "nltk.download('stopwords')\n",
        "stopwords.words('english')\n",
        "nltk.download('punkt')\n",
        "nltk.download('wordnet')\n",
        "nltk.download('averaged_perceptron_tagger')\n"
      ]
    },
    {
      "cell_type": "markdown",
      "metadata": {
        "id": "6gjlF4Sk2024"
      },
      "source": [
        "# Classes"
      ]
    },
    {
      "cell_type": "code",
      "execution_count": null,
      "metadata": {
        "id": "EGgecI0Z24A5"
      },
      "outputs": [],
      "source": [
        "class GenericDoc:\n",
        "  def __init__(self, doc_id, text):\n",
        "    self.doc_id = doc_id\n",
        "    self.text = text\n",
        "\n",
        "  def __str__(self):\n",
        "    return f\"GenericDoc(doc_id:'{self.doc_id}', text:\\\" {self.text}\\\")\"\n",
        "\n",
        "  def key(self):\n",
        "    return self.doc_id\n",
        "\n",
        "  def value(self):\n",
        "    return self.text"
      ]
    },
    {
      "cell_type": "markdown",
      "metadata": {
        "id": "mUQKTGbB7zND"
      },
      "source": [
        "#Methods"
      ]
    },
    {
      "cell_type": "markdown",
      "source": [
        "## Word Norm"
      ],
      "metadata": {
        "id": "3hEUWV3IMa6J"
      }
    },
    {
      "cell_type": "code",
      "source": [
        "import re\n",
        "\n",
        "def remove_repeated_letters_with_regex(doc):\n",
        "    return  re.sub(r'(.)\\1+', r'\\1', doc)"
      ],
      "metadata": {
        "id": "xkHNWhkGMdSd"
      },
      "execution_count": null,
      "outputs": []
    },
    {
      "cell_type": "markdown",
      "source": [
        "## Date"
      ],
      "metadata": {
        "id": "LWPoJt-MEhlO"
      }
    },
    {
      "cell_type": "code",
      "source": [
        "from datetime import datetime\n",
        "\n",
        "def norm_date(words):\n",
        "    new_texts = []\n",
        "    for word in words:\n",
        "        try:\n",
        "            date_obj = datetime.strptime(word, \"%Y-%m-%d\")\n",
        "            formatted_date = date_obj.strftime(\"%Y %m %d\")\n",
        "            day_name = date_obj.strftime(\"%A\")\n",
        "            month_name = date_obj.strftime(\"%B\")\n",
        "            time_obj = date_obj.time().strftime(\"%I %M %p\")\n",
        "            new_formatted = f\"{formatted_date} {day_name} {month_name} {time_obj}\"\n",
        "            new_texts.extend(new_formatted.split())\n",
        "        except (ValueError, OverflowError):\n",
        "            new_texts.append(word)\n",
        "    return new_texts"
      ],
      "metadata": {
        "id": "JyM9XAyaEjVQ"
      },
      "execution_count": null,
      "outputs": []
    },
    {
      "cell_type": "markdown",
      "source": [
        "## URLs"
      ],
      "metadata": {
        "id": "VGBrRMFkEF6j"
      }
    },
    {
      "cell_type": "code",
      "source": [
        "def remove_urls(doc):\n",
        "  return re.sub(\"http[^\\s]*\",\"\",doc,flags = re.IGNORECASE)"
      ],
      "metadata": {
        "id": "KDe-jZ2WEJi4"
      },
      "execution_count": null,
      "outputs": []
    },
    {
      "cell_type": "markdown",
      "metadata": {
        "id": "Rn618KbE3JwF"
      },
      "source": [
        "## Spacing"
      ]
    },
    {
      "cell_type": "code",
      "execution_count": null,
      "metadata": {
        "id": "F1y_D_dA3Qe7"
      },
      "outputs": [],
      "source": [
        "def spacing(text):\n",
        "    text = re.sub(r'[_.-`,]', ' ', text)\n",
        "    return text"
      ]
    },
    {
      "cell_type": "markdown",
      "metadata": {
        "id": "1cHkKbwr4p-H"
      },
      "source": [
        "## Expand Abbreviation"
      ]
    },
    {
      "cell_type": "code",
      "execution_count": null,
      "metadata": {
        "id": "VlAi2hQe418V"
      },
      "outputs": [],
      "source": [
        "res = []\n",
        "def expand(words):\n",
        "  for word in words:\n",
        "    for syn in wordnet.synsets(word):\n",
        "        for l in syn.lemmas():\n",
        "            res.extend(spacing(l.name()))\n",
        "  res_set = set(res)\n",
        "  if len(res_set) != 0:\n",
        "   words=res_set\n",
        "  return words"
      ]
    },
    {
      "cell_type": "markdown",
      "metadata": {
        "id": "tQN358_J74cS"
      },
      "source": [
        "##Stop Words"
      ]
    },
    {
      "cell_type": "code",
      "execution_count": null,
      "metadata": {
        "id": "3G-GudWr716D"
      },
      "outputs": [],
      "source": [
        "def remove_stop_words(doc_id,words):\n",
        "  res=[]\n",
        "  for word in words:\n",
        "   if word not in stopwords.words('english'):\n",
        "      res.append(word)\n",
        "  return res"
      ]
    },
    {
      "cell_type": "markdown",
      "metadata": {
        "id": "uRMue295_vBy"
      },
      "source": [
        "## Unknown Words"
      ]
    },
    {
      "cell_type": "code",
      "execution_count": null,
      "metadata": {
        "id": "qTwnbGHK_0L6"
      },
      "outputs": [],
      "source": [
        "def remove_unknown_words(words):\n",
        "  res = []\n",
        "  spell = SpellChecker()\n",
        "  misspelled = spell.unknown(words)\n",
        "  for word in words:\n",
        "    if word not in misspelled:\n",
        "      res.append(word)\n",
        "  return res"
      ]
    },
    {
      "cell_type": "markdown",
      "metadata": {
        "id": "Tsv5hDVZApE9"
      },
      "source": [
        "##Stemming"
      ]
    },
    {
      "cell_type": "code",
      "execution_count": null,
      "metadata": {
        "id": "jKVBypQtArKq"
      },
      "outputs": [],
      "source": [
        "\n",
        "def stemming(words):\n",
        "  stemming_words =[]\n",
        "  stemmer = PorterStemmer()\n",
        "  for word in words:\n",
        "    temp = stemmer.stem(word)\n",
        "    if len(temp) > 1:\n",
        "      stemming_words.append(temp)\n",
        "    else:\n",
        "      if temp.isnumeric():\n",
        "       stemming_words.append(temp)\n",
        "\n",
        "  return stemming_words"
      ]
    },
    {
      "cell_type": "markdown",
      "metadata": {
        "id": "1Cse5oY8B9FD"
      },
      "source": [
        "## POS"
      ]
    },
    {
      "cell_type": "code",
      "execution_count": null,
      "metadata": {
        "id": "47Y21MDyB4FK"
      },
      "outputs": [],
      "source": [
        "def get_wordnet_pos(tag_parameter):\n",
        "\n",
        "    tag = tag_parameter[0].upper()\n",
        "    tag_dict = {\"J\": wordnet.ADJ,\n",
        "                \"N\": wordnet.NOUN,\n",
        "                \"V\": wordnet.VERB,\n",
        "                \"R\": wordnet.ADV}\n",
        "\n",
        "    return tag_dict.get(tag, wordnet.NOUN)"
      ]
    },
    {
      "cell_type": "markdown",
      "metadata": {
        "id": "IHHnkP5hBbTr"
      },
      "source": [
        "##Lemmatization"
      ]
    },
    {
      "cell_type": "code",
      "execution_count": null,
      "metadata": {
        "id": "xKg31p57BdBK"
      },
      "outputs": [],
      "source": [
        "def lemmatization(words,pos_tags):\n",
        "\n",
        "  # Lemmatization\n",
        "  lemmatizer = WordNetLemmatizer()\n",
        "  lemmatized_words = [lemmatizer.lemmatize(word, pos=get_wordnet_pos(tag)) for word, tag in pos_tags]\n",
        "  return lemmatized_words"
      ]
    },
    {
      "cell_type": "markdown",
      "metadata": {
        "id": "3Nc37wWji1I4"
      },
      "source": [
        "## Extract Alphanumeric"
      ]
    },
    {
      "cell_type": "code",
      "execution_count": null,
      "metadata": {
        "id": "jmZr3uNbjNrZ"
      },
      "outputs": [],
      "source": [
        "import re\n",
        "def isAlphaNumeric(str):\n",
        "\n",
        "    regex = \"^(?=.*[a-zA-Z])(?=.*[0-9])[A-Za-z0-9]+$\"\n",
        "    p = re.compile(regex)\n",
        "\n",
        "    if(str == None):\n",
        "        return True\n",
        "\n",
        "    if(re.search(p, str)):\n",
        "        return True\n",
        "    else:\n",
        "        return False\n"
      ]
    },
    {
      "cell_type": "markdown",
      "metadata": {
        "id": "WgYtDqvzEh1F"
      },
      "source": [
        "## Regex"
      ]
    },
    {
      "cell_type": "code",
      "execution_count": null,
      "metadata": {
        "id": "ERuqd3vNEj-t"
      },
      "outputs": [],
      "source": [
        "def remove_special_characters(words): # Word Level\n",
        "    res = []\n",
        "    for word in words:\n",
        "        cleaned_word = re.sub(r'[^A-Za-z0-9]+', '', word)\n",
        "        res.append(cleaned_word)\n",
        "    return res"
      ]
    },
    {
      "cell_type": "code",
      "execution_count": null,
      "metadata": {
        "id": "FopXkySjFv0A"
      },
      "outputs": [],
      "source": [
        "def ARSC(text): # Document Level\n",
        "  return re.sub(r'[^A-Za-z0-9]+', ' ', text)"
      ]
    },
    {
      "cell_type": "markdown",
      "metadata": {
        "id": "043jcI0p5Pnb"
      },
      "source": [
        "## Numbers To Words"
      ]
    },
    {
      "cell_type": "code",
      "execution_count": null,
      "metadata": {
        "id": "UVZTOytn5Ugh"
      },
      "outputs": [],
      "source": [
        "from dataclasses import replace\n",
        "import inflect\n",
        "\n",
        "def numberToWord(words):\n",
        "    p = inflect.engine()\n",
        "    res = []\n",
        "    for word in words:\n",
        "        try:\n",
        "            if word.isnumeric():\n",
        "                word = p.number_to_words(int(word), decimal=\" \", andword=\" \")\n",
        "                word = re.sub(r' ','_',word)\n",
        "                res.append(word)\n",
        "            else:\n",
        "                res.append(word)\n",
        "        except Exception as e:\n",
        "            pass\n",
        "    return res\n"
      ]
    },
    {
      "cell_type": "markdown",
      "metadata": {
        "id": "z9B7_zmJrrau"
      },
      "source": [
        "# Storing"
      ]
    },
    {
      "cell_type": "code",
      "execution_count": 4,
      "metadata": {
        "id": "CjS2vw10rvTf"
      },
      "outputs": [],
      "source": [
        "import pickle\n",
        "\n",
        "def save(vectorizer, path):\n",
        "    with open(path, \"wb\") as f:\n",
        "        pickle.dump(vectorizer, f)\n",
        "\n",
        "def load(path):\n",
        "    with open(path, \"rb\") as f:\n",
        "        return pickle.load(f)"
      ]
    },
    {
      "cell_type": "markdown",
      "metadata": {
        "id": "IdIFzGY11xFr"
      },
      "source": [
        "# Text Processing"
      ]
    },
    {
      "cell_type": "code",
      "execution_count": null,
      "metadata": {
        "id": "PxS2bzhR10Lw"
      },
      "outputs": [],
      "source": [
        "stop_words = set(stopwords.words('english'))\n",
        "def process(document):\n",
        "\n",
        "    doc_id, doc = document\n",
        "\n",
        "    # Lower\n",
        "    doc = doc.lower().strip()\n",
        "\n",
        "    #ARSC\n",
        "    doc = ARSC(doc)\n",
        "\n",
        "\n",
        "    # Tokenize into words\n",
        "    words = word_tokenize(doc)\n",
        "\n",
        "    # POS\n",
        "    pos = pos_tag(words)\n",
        "\n",
        "    # Stop Words\n",
        "    words = [word for word in words if word not in stop_words]\n",
        "\n",
        "    # Lemmatization\n",
        "    words = lemmatization(words,pos)\n",
        "\n",
        "    # Stemming\n",
        "    words = stemming(words)\n",
        "\n",
        "    # Number To Word\n",
        "    words = numberToWord(words)\n",
        "\n",
        "\n",
        "    return doc_id, ' '.join(words)\n"
      ]
    },
    {
      "cell_type": "markdown",
      "metadata": {
        "id": "IR7t-v-u2bAb"
      },
      "source": [
        "# Clean Data"
      ]
    },
    {
      "cell_type": "markdown",
      "metadata": {
        "id": "MvBXkzLPmKy1"
      },
      "source": [
        "## Train\n"
      ]
    },
    {
      "cell_type": "code",
      "execution_count": null,
      "metadata": {
        "id": "RBNQD9eemdBt"
      },
      "outputs": [],
      "source": [
        "cleand_data= []\n",
        "data_names= []\n",
        "def clean(docs):\n",
        "  temp_data = []\n",
        "  temp_names = []\n",
        "  for doc in docs:\n",
        "    name, res = process(doc)\n",
        "    temp_names.append(doc.doc_id)\n",
        "    temp_data.append(res)\n",
        "  data_names.extend(temp_names)\n",
        "  cleand_data.extend(temp_data)"
      ]
    },
    {
      "cell_type": "code",
      "execution_count": null,
      "metadata": {
        "id": "YAeRgwSMmotM"
      },
      "outputs": [],
      "source": [
        "clean(dataset.docs_iter()[:40366])"
      ]
    },
    {
      "cell_type": "code",
      "execution_count": null,
      "metadata": {
        "id": "wB3JPdAsrstV"
      },
      "outputs": [],
      "source": [
        "clean(dataset.docs_iter()[40366:80732])"
      ]
    },
    {
      "cell_type": "code",
      "execution_count": null,
      "metadata": {
        "id": "0hWNn7AsswOV"
      },
      "outputs": [],
      "source": [
        "clean(dataset.docs_iter()[80732:121098])"
      ]
    },
    {
      "cell_type": "code",
      "execution_count": null,
      "metadata": {
        "id": "Il7XNCSZszbE"
      },
      "outputs": [],
      "source": [
        "clean(dataset.docs_iter()[121098:161464])"
      ]
    },
    {
      "cell_type": "code",
      "execution_count": null,
      "metadata": {
        "id": "IF0KAiRxs3Zs"
      },
      "outputs": [],
      "source": [
        "clean(dataset.docs_iter()[161464:201830])"
      ]
    },
    {
      "cell_type": "code",
      "execution_count": null,
      "metadata": {
        "id": "auZ0Bi7Hs3yd"
      },
      "outputs": [],
      "source": [
        "clean(dataset.docs_iter()[201830:242196])"
      ]
    },
    {
      "cell_type": "code",
      "execution_count": null,
      "metadata": {
        "id": "ZKiTGMXCs4Kk"
      },
      "outputs": [],
      "source": [
        "clean(dataset.docs_iter()[242196:282562])"
      ]
    },
    {
      "cell_type": "code",
      "execution_count": null,
      "metadata": {
        "id": "FnWrtmqrAhXc",
        "colab": {
          "base_uri": "https://localhost:8080/"
        },
        "outputId": "8d7a680c-206e-4814-efb3-530033606911"
      },
      "outputs": [
        {
          "output_type": "execute_result",
          "data": {
            "text/plain": [
              "282562"
            ]
          },
          "metadata": {},
          "execution_count": 29
        }
      ],
      "source": [
        "len(cleand_data)"
      ]
    },
    {
      "cell_type": "code",
      "execution_count": null,
      "metadata": {
        "id": "AJr_u3Z2s4lk"
      },
      "outputs": [],
      "source": [
        "clean(dataset.docs_iter()[282562:322928])"
      ]
    },
    {
      "cell_type": "code",
      "execution_count": null,
      "metadata": {
        "id": "yPNQp19Ls5BU"
      },
      "outputs": [],
      "source": [
        "clean(dataset.docs_iter()[322928:363294])"
      ]
    },
    {
      "cell_type": "code",
      "execution_count": null,
      "metadata": {
        "id": "wCkAi4KLs5yN"
      },
      "outputs": [],
      "source": [
        "clean(dataset.docs_iter()[363294:403660])"
      ]
    },
    {
      "cell_type": "code",
      "execution_count": null,
      "metadata": {
        "id": "jJt1JQPStXS9"
      },
      "outputs": [],
      "source": [
        "clean(dataset.docs_iter()[403660:403666])"
      ]
    },
    {
      "cell_type": "code",
      "execution_count": null,
      "metadata": {
        "id": "2PPSw-IC6vta"
      },
      "outputs": [],
      "source": [
        "save(cleand_data, \"/content/drive/My Drive/IR/antique/cleand_data.pkl\")\n",
        "save(data_names,\"/content/drive/My Drive/IR/antique/data_names.pkl\")"
      ]
    },
    {
      "cell_type": "markdown",
      "metadata": {
        "id": "URbd-bxs2gmb"
      },
      "source": [
        "## Load Clean Data"
      ]
    },
    {
      "cell_type": "code",
      "execution_count": null,
      "metadata": {
        "id": "J5s8b9DS2jVM"
      },
      "outputs": [],
      "source": [
        "cleand_data = load(\"/content/drive/My Drive/IR/antique/cleand_data.pkl\")\n",
        "data_names = load(\"/content/drive/My Drive/IR/antique/data_names.pkl\")"
      ]
    },
    {
      "cell_type": "code",
      "execution_count": null,
      "metadata": {
        "colab": {
          "base_uri": "https://localhost:8080/"
        },
        "id": "0eu22G8rfOxw",
        "outputId": "dce7397b-dc7e-4d0d-a97e-87fba9bc8e2a"
      },
      "outputs": [
        {
          "data": {
            "text/plain": [
              "403666"
            ]
          },
          "execution_count": 33,
          "metadata": {},
          "output_type": "execute_result"
        }
      ],
      "source": [
        "doc_lengths =[]\n",
        "for data in cleand_data:\n",
        "  doc_lengths.append(len(data))\n",
        "len(doc_lengths)"
      ]
    },
    {
      "cell_type": "markdown",
      "metadata": {
        "id": "NZEbITjzNC9M"
      },
      "source": [
        "# Qrels"
      ]
    },
    {
      "cell_type": "code",
      "execution_count": null,
      "metadata": {
        "id": "eUXAKjmMNF6j"
      },
      "outputs": [],
      "source": [
        "qrels = []\n",
        "for q in dataset.qrels_iter():\n",
        "  qrels.append(q)"
      ]
    },
    {
      "cell_type": "markdown",
      "metadata": {
        "id": "IjI4-U2QxCnn"
      },
      "source": [
        "# Vectorizer, TFIDF Matrix\n"
      ]
    },
    {
      "cell_type": "markdown",
      "metadata": {
        "id": "xlKXhDZsCaHQ"
      },
      "source": [
        "## ReCalculate Values"
      ]
    },
    {
      "cell_type": "code",
      "execution_count": null,
      "metadata": {
        "id": "q2fKa78f1h8J"
      },
      "outputs": [],
      "source": [
        "# Vectorizer\n",
        "vectorizer = TfidfVectorizer()\n",
        "\n",
        "# TFIDF Matrix\n",
        "tfidf_matrix = vectorizer.fit_transform(cleand_data)\n",
        "\n",
        "# Saving\n",
        "save(vectorizer, \"/content/drive/My Drive/IR/antique/vectorizer.pkl\")\n",
        "save(tfidf_matrix, \"/content/drive/My Drive/IR/antique/tfidf_matrix.pkl\")\n"
      ]
    },
    {
      "cell_type": "markdown",
      "metadata": {
        "id": "M-iRcUt0Cv5Y"
      },
      "source": [
        "## Load Calculated Values"
      ]
    },
    {
      "cell_type": "code",
      "execution_count": null,
      "metadata": {
        "id": "RC4C89-3C4Ey"
      },
      "outputs": [],
      "source": [
        "# Loading\n",
        "vectorizer = load(\"/content/drive/My Drive/IR/antique/vectorizer.pkl\")\n",
        "tfidf_matrix = load(\"/content/drive/My Drive/IR/antique/tfidf_matrix.pkl\")"
      ]
    },
    {
      "cell_type": "markdown",
      "metadata": {
        "id": "VtO2CO8MMlfq"
      },
      "source": [
        "## Matching"
      ]
    },
    {
      "cell_type": "markdown",
      "metadata": {
        "id": "9PttwlsnHW1z"
      },
      "source": [
        "### Basic Match"
      ]
    },
    {
      "cell_type": "code",
      "execution_count": null,
      "metadata": {
        "id": "r6R1WCoiMpKV"
      },
      "outputs": [],
      "source": [
        "\n",
        "def match_query(query):\n",
        "    query_tfidf = vectorizer.transform([query])\n",
        "    query_vector = query_tfidf.toarray()[0]\n",
        "    similarity = cosine_similarity(query_vector.reshape(1, -1), tfidf_matrix).flatten()\n",
        "    sorted_indices = np.argsort(similarity)[::-1]\n",
        "    sorted_documents = [(data_names[i]) for i in sorted_indices if similarity[i] > 0]\n",
        "    return sorted_documents"
      ]
    },
    {
      "cell_type": "markdown",
      "metadata": {
        "id": "5f9gqWP9HN9X"
      },
      "source": [
        "### Match with Length Normaliztion"
      ]
    },
    {
      "cell_type": "code",
      "execution_count": null,
      "metadata": {
        "id": "iZBxsty9HNTe"
      },
      "outputs": [],
      "source": [
        "import numpy as np\n",
        "\n",
        "pivot = np.mean(np.sum(tfidf_matrix, axis=1))\n",
        "\n",
        "\n",
        "slope = 0.75\n",
        "\n",
        "normalized_matrix = tfidf_matrix / ((1 - slope) * pivot + slope * np.sum(tfidf_matrix, axis=1))\n",
        "\n",
        "def match_query_length_normalization(query):\n",
        "    query_tfidf = vectorizer.transform([query])\n",
        "    query_vector = query_tfidf.toarray()[0]\n",
        "    similarity = cosine_similarity(query_vector.reshape(1, -1), normalized_matrix).flatten()\n",
        "    sorted_indices = np.argsort(similarity)[::-1]\n",
        "    sorted_documents = [(data_names[i]) for i in sorted_indices[:10] if similarity[i] > 0]\n",
        "    return sorted_documents"
      ]
    },
    {
      "cell_type": "markdown",
      "metadata": {
        "id": "e1g-XsAkztJc"
      },
      "source": [
        "## Query Results"
      ]
    },
    {
      "cell_type": "markdown",
      "metadata": {
        "id": "wjtH1sjgz2nT"
      },
      "source": [
        "### Calculate & Save"
      ]
    },
    {
      "cell_type": "code",
      "execution_count": null,
      "metadata": {
        "id": "f3XlWrklMvCb"
      },
      "outputs": [],
      "source": [
        "query_results = {}\n",
        "\n",
        "for query in dataset.queries_iter():\n",
        "    query_name, cleaned_query = process(query)\n",
        "    result_value = match_query(cleaned_query)\n",
        "    query_results[query_name] = result_value\n",
        "\n",
        "save(query_results, \"/content/drive/My Drive/IR/antique/query_results.pkl\")"
      ]
    },
    {
      "cell_type": "markdown",
      "metadata": {
        "id": "mRDPXG_Az-jc"
      },
      "source": [
        "### Load"
      ]
    },
    {
      "cell_type": "code",
      "execution_count": 6,
      "metadata": {
        "id": "6Oo8_D7Q0DA0"
      },
      "outputs": [],
      "source": [
        "query_results = load(\"/content/drive/My Drive/IR/antique/query_results.pkl\")"
      ]
    },
    {
      "cell_type": "markdown",
      "metadata": {
        "id": "HMY1FMkND7c2"
      },
      "source": [
        "# Evaluation Methods\n"
      ]
    },
    {
      "cell_type": "code",
      "execution_count": 7,
      "metadata": {
        "id": "8Eiq7ruZSlGK"
      },
      "outputs": [],
      "source": [
        "def calculate_relevant_count( retrieved_docs, query_docs):\n",
        "    intersect_values = np.intersect1d(retrieved_docs, query_docs)\n",
        "    matched_count = len(intersect_values)\n",
        "    return matched_count"
      ]
    },
    {
      "cell_type": "code",
      "execution_count": 8,
      "metadata": {
        "id": "mWXpOR4LSbhe"
      },
      "outputs": [],
      "source": [
        "def getDocsByQid(qrels, queryId):\n",
        "    relevant_docs = []\n",
        "    flag: bool = False\n",
        "    for qid, doc_id, relevance, iteration in qrels:\n",
        "        if qid == queryId:\n",
        "            flag = True\n",
        "            relevant_docs.append(doc_id)\n",
        "        elif flag:\n",
        "            break;\n",
        "        else:\n",
        "            continue\n",
        "    return relevant_docs"
      ]
    },
    {
      "cell_type": "code",
      "execution_count": 9,
      "metadata": {
        "id": "QUs3nNg6Rowt"
      },
      "outputs": [],
      "source": [
        "def average_precision(retrieved_docs, relevant_docs, k=10):\n",
        "    total_precisions = 0\n",
        "    curr_relavant = 1\n",
        "    if len(relevant_docs) == 0:\n",
        "        return 0\n",
        "    if len(retrieved_docs) <= k:\n",
        "        k = len(retrieved_docs)\n",
        "    for i in range(k):\n",
        "        if retrieved_docs[i] in relevant_docs:\n",
        "            total_precisions += curr_relavant / (i + 1)\n",
        "            curr_relavant += 1\n",
        "    matched = calculate_relevant_count(retrieved_docs[:k], relevant_docs)\n",
        "\n",
        "    if matched == 0:\n",
        "        return 0\n",
        "    return total_precisions / matched"
      ]
    },
    {
      "cell_type": "code",
      "execution_count": 10,
      "metadata": {
        "id": "PZVn8bFxRiOE"
      },
      "outputs": [],
      "source": [
        "\n",
        "def calculate_map( queries, qrles):\n",
        "    total_ap = 0\n",
        "    for query_id, docs in queries.items():\n",
        "      retrieved_docs= queries.get(query_id)[:10]\n",
        "      relevant_docs=getDocsByQid(qrels,query_id)\n",
        "      avg= average_precision(retrieved_docs, relevant_docs)\n",
        "      total_ap += avg\n",
        "\n",
        "    map_score = total_ap / len(queries)\n",
        "    return map_score"
      ]
    },
    {
      "cell_type": "code",
      "execution_count": 11,
      "metadata": {
        "id": "6nL1WLQaSMO0"
      },
      "outputs": [],
      "source": [
        "def get_first_matched_position(qrles, queries):\n",
        "    for query_id in queries:\n",
        "        docs_list = queries[query_id]\n",
        "        queries[query_id] = docs_list[:10]\n",
        "    matched_positions = {}\n",
        "    for query_id in queries:\n",
        "        matched_positions[query_id] = -1\n",
        "        for i, doc in enumerate(queries[query_id]):\n",
        "            if doc in getDocsByQid(qrles,query_id):\n",
        "                matched_positions[query_id] = i\n",
        "                break\n",
        "    return matched_positions"
      ]
    },
    {
      "cell_type": "code",
      "execution_count": 12,
      "metadata": {
        "id": "YJRnTiVkRwTU"
      },
      "outputs": [],
      "source": [
        "def mean_reciprocal_rank(qrels, queries):\n",
        "    matched_positions = get_first_matched_position(qrels, queries)\n",
        "    total_rr = 0\n",
        "    for query_id, matched_position in matched_positions.items():\n",
        "        if matched_position == -1:\n",
        "            total_rr += 0\n",
        "            continue\n",
        "        total_rr += (1 / (int(matched_position) + 1))\n",
        "    mrr = (total_rr) * (1 / len(qrels))\n",
        "    return mrr"
      ]
    },
    {
      "cell_type": "code",
      "source": [
        "def precisionAtTen(query_id, queries):\n",
        "    retrieved_docs= queries.get(query_id)[:10]\n",
        "    relevant_docs=getDocsByQid(qrels,query_id)\n",
        "    number_of_relevant_docs = calculate_relevant_count(retrieved_docs, relevant_docs)\n",
        "    precision = number_of_relevant_docs / 10\n",
        "    return precision"
      ],
      "metadata": {
        "id": "PRrcEZO05j_T"
      },
      "execution_count": 13,
      "outputs": []
    },
    {
      "cell_type": "code",
      "source": [
        "def recall(query_id, queries, k = 0):\n",
        "  if(k==0):\n",
        "    retrieved_docs= queries.get(query_id)\n",
        "  else:\n",
        "    retrieved_docs= queries.get(query_id)[:k]\n",
        "\n",
        "  relevant_docs=getDocsByQid(qrels,query_id)\n",
        "  number_of_relevant_docs = calculate_relevant_count(retrieved_docs, relevant_docs)\n",
        "  recall_value = number_of_relevant_docs / len(relevant_docs)\n",
        "  return recall_value"
      ],
      "metadata": {
        "id": "RpkKxh4RAHxS"
      },
      "execution_count": 14,
      "outputs": []
    },
    {
      "cell_type": "markdown",
      "metadata": {
        "id": "u-hge-mGb0yV"
      },
      "source": [
        "# Word Embeding"
      ]
    },
    {
      "cell_type": "markdown",
      "source": [
        "## Word2Vec"
      ],
      "metadata": {
        "id": "L8McdfQs9HHM"
      }
    },
    {
      "cell_type": "code",
      "execution_count": null,
      "metadata": {
        "id": "hAVx_7c2c8_T"
      },
      "outputs": [],
      "source": [
        "import numpy as np\n",
        "\n",
        "def get_embedding_vector(model, doc_tokens, size=100):\n",
        "    if not doc_tokens:\n",
        "        return np.zeros(size)\n",
        "\n",
        "    embeddings = []\n",
        "    for tok in doc_tokens:\n",
        "        if tok in model.wv:\n",
        "            embeddings.append(model.wv[tok])\n",
        "        else:\n",
        "            embeddings.append(np.zeros(size))\n",
        "\n",
        "    if embeddings:\n",
        "        embeddings = np.asarray(embeddings)\n",
        "        vector = np.mean(embeddings, axis=0)\n",
        "    else:\n",
        "        return np.zeros(size)\n",
        "\n",
        "    return vector\n"
      ]
    },
    {
      "cell_type": "markdown",
      "metadata": {
        "id": "ODqGodEAb-uD"
      },
      "source": [
        "### Train"
      ]
    },
    {
      "cell_type": "code",
      "execution_count": null,
      "metadata": {
        "id": "MiN2rv0Jf0vk"
      },
      "outputs": [],
      "source": [
        "from nltk.tokenize import word_tokenize\n",
        "import numpy as np\n",
        "\n",
        "tokenized_documents = [word_tokenize(doc) for doc in cleand_data if isinstance(doc, str)]\n"
      ]
    },
    {
      "cell_type": "code",
      "execution_count": null,
      "metadata": {
        "id": "zufwSZwsb7Br"
      },
      "outputs": [],
      "source": [
        "from gensim.models import Word2Vec\n",
        "\n",
        "vector_size = 100\n",
        "epochs = 30\n",
        "workers = 2\n",
        "\n",
        "\n",
        "print('training word2vec')\n",
        "model = Word2Vec(tokenized_documents, vector_size=vector_size, sg=1, workers=workers, epochs=epochs)\n",
        "\n",
        "print('storing word2vec model')\n",
        "model.save(\"/content/drive/My Drive/IR/antique/wbModel.pkl\")\n",
        "\n",
        "print('calculating document vectors')\n",
        "document_vectors = [get_embedding_vector(model, doc_tokens) for doc_tokens in tokenized_documents]\n",
        "\n",
        "print('storing documents vectors')\n",
        "save(document_vectors, \"/content/drive/My Drive/IR/antique/document_vectors.pkl\")\n",
        "print('training model has ended')"
      ]
    },
    {
      "cell_type": "code",
      "execution_count": null,
      "metadata": {
        "id": "TqezBzqglPxv"
      },
      "outputs": [],
      "source": [
        "from gensim.models import Word2Vec\n",
        "model = Word2Vec.load(\"/content/drive/My Drive/IR/antique/wbModel.pkl\")\n",
        "document_vectors = load(\"/content/drive/My Drive/IR/antique/document_vectors.pkl\")"
      ]
    },
    {
      "cell_type": "markdown",
      "metadata": {
        "id": "tWTpQcLDdHOt"
      },
      "source": [
        "### Matching"
      ]
    },
    {
      "cell_type": "code",
      "execution_count": null,
      "metadata": {
        "id": "nT9T_luVfHWa"
      },
      "outputs": [],
      "source": [
        "def WEmatchingAndRanking(query):\n",
        "    retrived = []\n",
        "\n",
        "    query_tokens = word_tokenize(query)\n",
        "\n",
        "    query_vector = get_embedding_vector(model, query_tokens)\n",
        "\n",
        "    similarity_scores =  cosine_similarity([query_vector], document_vectors)[0]\n",
        "\n",
        "    sorted_docs = np.argsort(similarity_scores)[::-1]\n",
        "\n",
        "    retrived = [(data_names[i]) for i in sorted_docs[:10]]\n",
        "    return retrived"
      ]
    },
    {
      "cell_type": "markdown",
      "metadata": {
        "id": "VgRTuIjuoeop"
      },
      "source": [
        "### Query Results"
      ]
    },
    {
      "cell_type": "code",
      "execution_count": null,
      "metadata": {
        "id": "waK1ID_cmdeV"
      },
      "outputs": [],
      "source": [
        "WE_query_results = {}\n",
        "i = 0;\n",
        "for query in dataset.queries_iter():\n",
        "    i+=1\n",
        "    print(i)\n",
        "    query_name, cleaned_query = process(query)\n",
        "    result_value = WEmatchingAndRanking(cleaned_query)\n",
        "    WE_query_results[query_name] = result_value\n",
        "\n",
        "save(WE_query_results, \"/content/drive/My Drive/IR/antique/WE_query_results.pkl\")"
      ]
    },
    {
      "cell_type": "markdown",
      "metadata": {
        "id": "ujdWaqfYgxQA"
      },
      "source": [
        "### W2V Map"
      ]
    },
    {
      "cell_type": "code",
      "execution_count": null,
      "metadata": {
        "colab": {
          "base_uri": "https://localhost:8080/"
        },
        "id": "wyklZ-VT58ta",
        "outputId": "2403ae94-513f-4d85-b758-1314696c5e96"
      },
      "outputs": [
        {
          "data": {
            "text/plain": [
              "0.27285007272198397"
            ]
          },
          "execution_count": 55,
          "metadata": {},
          "output_type": "execute_result"
        }
      ],
      "source": [
        "Map = calculate_map(WE_query_results, qrels)\n",
        "Map"
      ]
    },
    {
      "cell_type": "markdown",
      "metadata": {
        "id": "BvF3oAFSFb2Q"
      },
      "source": [
        "## Hugging Face Embedding"
      ]
    },
    {
      "cell_type": "code",
      "source": [
        "from langchain_community.embeddings import HuggingFaceEmbeddings\n",
        "model_kwargs = {'device': 'cpu'}\n",
        "encode_kwargs = {'normalize_embeddings': False}\n",
        "model = \"sentence-transformers/multi-qa-MiniLM-L6-cos-v1\"\n",
        "embeddings = HuggingFaceEmbeddings(\n",
        "    model_name=model,\n",
        "    model_kwargs=model_kwargs,\n",
        "    encode_kwargs=encode_kwargs,\n",
        "    show_progress=\"false\"\n",
        ")"
      ],
      "metadata": {
        "id": "RE8Xb6X36pUA"
      },
      "execution_count": null,
      "outputs": []
    },
    {
      "cell_type": "code",
      "source": [
        "embeddings_list = []"
      ],
      "metadata": {
        "id": "v87z_bUVulCw"
      },
      "execution_count": null,
      "outputs": []
    },
    {
      "cell_type": "code",
      "source": [
        "embeddings_list.extend(embeddings.embed_documents(cleand_data))"
      ],
      "metadata": {
        "id": "giOqp9uE21Sh"
      },
      "execution_count": null,
      "outputs": []
    },
    {
      "cell_type": "code",
      "source": [
        "save(embeddings_list, \"/content/drive/My Drive/IR/antique/embeddings_list.pkl\")"
      ],
      "metadata": {
        "id": "M_3PZC5f4Cy3"
      },
      "execution_count": null,
      "outputs": []
    },
    {
      "cell_type": "markdown",
      "source": [
        "### Load"
      ],
      "metadata": {
        "id": "X6NJKZ3uR6oS"
      }
    },
    {
      "cell_type": "code",
      "source": [
        "embeddings_list = load(\"/content/drive/My Drive/IR/antique/embeddings_list.pkl\")"
      ],
      "metadata": {
        "id": "3w04rHWZR74q"
      },
      "execution_count": null,
      "outputs": []
    },
    {
      "cell_type": "markdown",
      "source": [
        "### Matching"
      ],
      "metadata": {
        "id": "1hq4bg9JvqDq"
      }
    },
    {
      "cell_type": "code",
      "source": [
        "def HFmatchingAndRanking(query):\n",
        "    retrived = []\n",
        "\n",
        "    query_vector =  embeddings.embed_query(query)\n",
        "\n",
        "    similarity_scores =  cosine_similarity([query_vector], embeddings_list)[0]\n",
        "\n",
        "    sorted_docs = np.argsort(similarity_scores)[::-1]\n",
        "\n",
        "    retrived = [(data_names[i]) for i in sorted_docs if similarity_scores[i] > 0 ]\n",
        "\n",
        "    return retrived"
      ],
      "metadata": {
        "id": "-x3Gzkehvsn-"
      },
      "execution_count": null,
      "outputs": []
    },
    {
      "cell_type": "markdown",
      "source": [
        "### Queries Result"
      ],
      "metadata": {
        "id": "JRBr-AEYxKag"
      }
    },
    {
      "cell_type": "code",
      "source": [
        "HF_query_results = {}\n",
        "i = 0;\n",
        "for query in dataset.queries_iter():\n",
        "    i+=1\n",
        "    print(i)\n",
        "    query_name, cleaned_query = process(query)\n",
        "    result_value = HFmatchingAndRanking(cleaned_query)\n",
        "    HF_query_results[query_name] = result_value\n",
        "\n",
        "# save(HF_query_results, \"/content/drive/My Drive/IR/antique/HF_query_results.pkl\")"
      ],
      "metadata": {
        "id": "wVDHeWuUxOiw"
      },
      "execution_count": null,
      "outputs": []
    },
    {
      "cell_type": "code",
      "source": [
        "Map = calculate_map(HF_query_results, qrels)\n",
        "Map"
      ],
      "metadata": {
        "id": "tC4xM83PxSTA"
      },
      "execution_count": null,
      "outputs": []
    },
    {
      "cell_type": "markdown",
      "source": [
        "# Vector Store"
      ],
      "metadata": {
        "id": "R5cbdYxP-esL"
      }
    },
    {
      "cell_type": "markdown",
      "source": [
        "## Chroma"
      ],
      "metadata": {
        "id": "x5F7tXO9KHLo"
      }
    },
    {
      "cell_type": "code",
      "execution_count": null,
      "metadata": {
        "id": "S1UbdN7SFAsR"
      },
      "outputs": [],
      "source": [
        "import chromadb\n",
        "chroma_client = chromadb.Client()"
      ]
    },
    {
      "cell_type": "code",
      "execution_count": null,
      "metadata": {
        "id": "xFVDmjvLFmLl"
      },
      "outputs": [],
      "source": [
        "# chroma_client.delete_collection(name=\"Antique\")\n",
        "collection = chroma_client.create_collection(name=\"Antique\")"
      ]
    },
    {
      "cell_type": "code",
      "execution_count": null,
      "metadata": {
        "id": "QAFal9-GFoVB",
        "colab": {
          "base_uri": "https://localhost:8080/"
        },
        "outputId": "e4e86a11-a81b-412c-c40c-afccf7f02ec1"
      },
      "outputs": [
        {
          "output_type": "stream",
          "name": "stdout",
          "text": [
            "0\n",
            "1000\n",
            "2000\n",
            "3000\n",
            "4000\n",
            "5000\n",
            "6000\n",
            "7000\n",
            "8000\n",
            "9000\n",
            "10000\n",
            "11000\n",
            "12000\n",
            "13000\n",
            "14000\n",
            "15000\n",
            "16000\n",
            "17000\n",
            "18000\n",
            "19000\n",
            "20000\n",
            "21000\n",
            "22000\n",
            "23000\n",
            "24000\n",
            "25000\n",
            "26000\n",
            "27000\n",
            "28000\n",
            "29000\n",
            "30000\n",
            "31000\n",
            "32000\n",
            "33000\n",
            "34000\n",
            "35000\n",
            "36000\n",
            "37000\n",
            "38000\n",
            "39000\n",
            "40000\n",
            "41000\n",
            "42000\n",
            "43000\n",
            "44000\n",
            "45000\n",
            "46000\n",
            "47000\n",
            "48000\n",
            "49000\n",
            "50000\n",
            "51000\n",
            "52000\n",
            "53000\n",
            "54000\n",
            "55000\n",
            "56000\n",
            "57000\n",
            "58000\n",
            "59000\n",
            "60000\n",
            "61000\n",
            "62000\n",
            "63000\n",
            "64000\n",
            "65000\n",
            "66000\n",
            "67000\n",
            "68000\n",
            "69000\n",
            "70000\n",
            "71000\n",
            "72000\n",
            "73000\n",
            "74000\n",
            "75000\n",
            "76000\n",
            "77000\n",
            "78000\n",
            "79000\n",
            "80000\n",
            "81000\n",
            "82000\n",
            "83000\n",
            "84000\n",
            "85000\n",
            "86000\n",
            "87000\n",
            "88000\n",
            "89000\n",
            "90000\n",
            "91000\n",
            "92000\n",
            "93000\n",
            "94000\n",
            "95000\n",
            "96000\n",
            "97000\n",
            "98000\n",
            "99000\n",
            "100000\n",
            "101000\n",
            "102000\n",
            "103000\n",
            "104000\n",
            "105000\n",
            "106000\n",
            "107000\n",
            "108000\n",
            "109000\n",
            "110000\n",
            "111000\n",
            "112000\n",
            "113000\n",
            "114000\n",
            "115000\n",
            "116000\n",
            "117000\n",
            "118000\n",
            "119000\n",
            "120000\n",
            "121000\n",
            "122000\n",
            "123000\n",
            "124000\n",
            "125000\n",
            "126000\n",
            "127000\n",
            "128000\n",
            "129000\n",
            "130000\n",
            "131000\n",
            "132000\n",
            "133000\n",
            "134000\n",
            "135000\n",
            "136000\n",
            "137000\n",
            "138000\n",
            "139000\n",
            "140000\n",
            "141000\n",
            "142000\n",
            "143000\n",
            "144000\n",
            "145000\n",
            "146000\n",
            "147000\n",
            "148000\n",
            "149000\n",
            "150000\n",
            "151000\n",
            "152000\n",
            "153000\n",
            "154000\n",
            "155000\n",
            "156000\n",
            "157000\n",
            "158000\n",
            "159000\n",
            "160000\n",
            "161000\n",
            "162000\n",
            "163000\n",
            "164000\n",
            "165000\n",
            "166000\n",
            "167000\n",
            "168000\n",
            "169000\n",
            "170000\n",
            "171000\n",
            "172000\n",
            "173000\n",
            "174000\n",
            "175000\n",
            "176000\n",
            "177000\n",
            "178000\n",
            "179000\n",
            "180000\n",
            "181000\n",
            "182000\n",
            "183000\n",
            "184000\n",
            "185000\n",
            "186000\n",
            "187000\n",
            "188000\n",
            "189000\n",
            "190000\n",
            "191000\n",
            "192000\n",
            "193000\n",
            "194000\n",
            "195000\n",
            "196000\n",
            "197000\n",
            "198000\n",
            "199000\n",
            "200000\n",
            "201000\n",
            "202000\n",
            "203000\n",
            "204000\n",
            "205000\n",
            "206000\n",
            "207000\n",
            "208000\n",
            "209000\n",
            "210000\n",
            "211000\n",
            "212000\n",
            "213000\n",
            "214000\n",
            "215000\n",
            "216000\n",
            "217000\n",
            "218000\n",
            "219000\n",
            "220000\n",
            "221000\n",
            "222000\n",
            "223000\n",
            "224000\n",
            "225000\n",
            "226000\n",
            "227000\n",
            "228000\n",
            "229000\n",
            "230000\n",
            "231000\n",
            "232000\n",
            "233000\n",
            "234000\n",
            "235000\n",
            "236000\n",
            "237000\n",
            "238000\n",
            "239000\n",
            "240000\n",
            "241000\n",
            "242000\n",
            "243000\n",
            "244000\n",
            "245000\n",
            "246000\n",
            "247000\n",
            "248000\n",
            "249000\n",
            "250000\n",
            "251000\n",
            "252000\n",
            "253000\n",
            "254000\n",
            "255000\n",
            "256000\n",
            "257000\n",
            "258000\n",
            "259000\n",
            "260000\n",
            "261000\n",
            "262000\n",
            "263000\n",
            "264000\n",
            "265000\n",
            "266000\n",
            "267000\n",
            "268000\n",
            "269000\n",
            "270000\n",
            "271000\n",
            "272000\n",
            "273000\n",
            "274000\n",
            "275000\n",
            "276000\n",
            "277000\n",
            "278000\n",
            "279000\n",
            "280000\n",
            "281000\n",
            "282000\n",
            "283000\n",
            "284000\n",
            "285000\n",
            "286000\n",
            "287000\n",
            "288000\n",
            "289000\n",
            "290000\n",
            "291000\n",
            "292000\n",
            "293000\n",
            "294000\n",
            "295000\n",
            "296000\n",
            "297000\n",
            "298000\n",
            "299000\n",
            "300000\n",
            "301000\n",
            "302000\n",
            "303000\n",
            "304000\n",
            "305000\n",
            "306000\n",
            "307000\n",
            "308000\n",
            "309000\n",
            "310000\n",
            "311000\n",
            "312000\n",
            "313000\n",
            "314000\n",
            "315000\n",
            "316000\n",
            "317000\n",
            "318000\n",
            "319000\n",
            "320000\n",
            "321000\n",
            "322000\n",
            "323000\n",
            "324000\n",
            "325000\n",
            "326000\n",
            "327000\n",
            "328000\n",
            "329000\n",
            "330000\n",
            "331000\n",
            "332000\n",
            "333000\n",
            "334000\n",
            "335000\n",
            "336000\n",
            "337000\n",
            "338000\n",
            "339000\n",
            "340000\n",
            "341000\n",
            "342000\n",
            "343000\n",
            "344000\n",
            "345000\n",
            "346000\n",
            "347000\n",
            "348000\n",
            "349000\n",
            "350000\n",
            "351000\n",
            "352000\n",
            "353000\n",
            "354000\n",
            "355000\n",
            "356000\n",
            "357000\n",
            "358000\n",
            "359000\n",
            "360000\n",
            "361000\n",
            "362000\n",
            "363000\n",
            "364000\n",
            "365000\n",
            "366000\n",
            "367000\n",
            "368000\n",
            "369000\n",
            "370000\n",
            "371000\n",
            "372000\n",
            "373000\n",
            "374000\n",
            "375000\n",
            "376000\n",
            "377000\n",
            "378000\n",
            "379000\n",
            "380000\n",
            "381000\n",
            "382000\n",
            "383000\n",
            "384000\n",
            "385000\n",
            "386000\n",
            "387000\n",
            "388000\n",
            "389000\n",
            "390000\n",
            "391000\n",
            "392000\n",
            "393000\n",
            "394000\n",
            "395000\n",
            "396000\n",
            "397000\n",
            "398000\n",
            "399000\n",
            "400000\n",
            "401000\n",
            "402000\n",
            "403000\n"
          ]
        }
      ],
      "source": [
        "batch_size = 1000\n",
        "num_documents = len(cleand_data)\n",
        "\n",
        "\n",
        "for i in range(0, num_documents, batch_size):\n",
        "    batch_data = cleand_data[i : i + batch_size]\n",
        "    batch_names = data_names[i : i + batch_size]\n",
        "    batch_embeddings = embeddings_list[i : i + batch_size]\n",
        "    print(i)\n",
        "    # Add the batch to the collection\n",
        "    collection.add(\n",
        "        documents=batch_data,\n",
        "        ids=batch_names,\n",
        "        embeddings=batch_embeddings\n",
        "    )"
      ]
    },
    {
      "cell_type": "markdown",
      "metadata": {
        "id": "SK6LNGm9IFcS"
      },
      "source": [
        "## Matching & Ranking"
      ]
    },
    {
      "cell_type": "code",
      "execution_count": null,
      "metadata": {
        "id": "Y8bMavLrF1IF"
      },
      "outputs": [],
      "source": [
        "def matchingAndRanking(query):\n",
        "  query_embedding_list = embeddings.embed_query(query)\n",
        "  results = collection.query(\n",
        "      query_embeddings=query_embedding_list,\n",
        "      n_results=490,\n",
        "  )\n",
        "  return results[\"ids\"][0]"
      ]
    },
    {
      "cell_type": "markdown",
      "source": [
        "## Queries Results"
      ],
      "metadata": {
        "id": "skKYuMyCJ4n4"
      }
    },
    {
      "cell_type": "code",
      "source": [
        "lang_query_results = {}\n",
        "i=0\n",
        "for query_name, query in dataset.queries_iter():\n",
        "    i+=1\n",
        "    print(i)\n",
        "    result_value = matchingAndRanking(query)\n",
        "    lang_query_results[query_name] = result_value\n",
        "\n",
        "save(lang_query_results, \"/content/drive/My Drive/IR/antique/lang_query_results.pkl\")"
      ],
      "metadata": {
        "id": "ShlWmuEGFBlg"
      },
      "execution_count": null,
      "outputs": []
    },
    {
      "cell_type": "markdown",
      "source": [
        "## Load Queries Results"
      ],
      "metadata": {
        "id": "SRpWtpcfnQYj"
      }
    },
    {
      "cell_type": "code",
      "source": [
        "lang_query_results = load(\"/content/drive/My Drive/IR/antique/lang_query_results.pkl\")"
      ],
      "metadata": {
        "id": "-Ee-sE1SnVTX"
      },
      "execution_count": 14,
      "outputs": []
    },
    {
      "cell_type": "markdown",
      "source": [
        "# Metrics Without Word embedding"
      ],
      "metadata": {
        "id": "uJaxBb_DvCIY"
      }
    },
    {
      "cell_type": "markdown",
      "source": [
        "## Recall"
      ],
      "metadata": {
        "id": "2-SEjyPQ1HQ7"
      }
    },
    {
      "cell_type": "code",
      "source": [
        "queries_recall = []\n",
        "\n",
        "for id, query in dataset.queries_iter():\n",
        "  queries_recall.append(recall(id, query_results))\n"
      ],
      "metadata": {
        "colab": {
          "base_uri": "https://localhost:8080/"
        },
        "id": "fEINdjOivAva",
        "outputId": "0e04f2ac-6984-4cac-9dcf-373b5deeb164"
      },
      "execution_count": null,
      "outputs": [
        {
          "output_type": "stream",
          "name": "stderr",
          "text": [
            "[INFO] [starting] https://ciir.cs.umass.edu/downloads/Antique/antique-train-queries.txt\n",
            "[INFO] [finished] https://ciir.cs.umass.edu/downloads/Antique/antique-train-queries.txt: [00:00] [137kB] [675kB/s]\n"
          ]
        }
      ]
    },
    {
      "cell_type": "code",
      "source": [
        "import matplotlib.pyplot as plt\n",
        "queries = range(1, len(queries_recall)+1)\n",
        "\n",
        "plt.figure(figsize=(10, 6))\n",
        "plt.bar(queries, queries_recall, color='skyblue', edgecolor='black')\n",
        "plt.xlabel('Query Number')\n",
        "plt.ylabel('Recall Value')\n",
        "plt.title('Recall')\n",
        "plt.grid(axis='y')\n",
        "plt.show()"
      ],
      "metadata": {
        "colab": {
          "base_uri": "https://localhost:8080/",
          "height": 564
        },
        "id": "6baDkCOSTTPu",
        "outputId": "f666b705-76e5-44bd-8520-07de6f516d48"
      },
      "execution_count": null,
      "outputs": [
        {
          "output_type": "display_data",
          "data": {
            "text/plain": [
              "<Figure size 1000x600 with 1 Axes>"
            ],
            "image/png": "[encoded data removed]"
          },
          "metadata": {}
        }
      ]
    },
    {
      "cell_type": "markdown",
      "source": [
        "## Precision@10"
      ],
      "metadata": {
        "id": "jSVgBizi1Lbk"
      }
    },
    {
      "cell_type": "code",
      "source": [
        "queries_PrecisionTen= []\n",
        "for id, query in dataset.queries_iter():\n",
        "  queries_PrecisionTen.append(precisionAtTen(id, query_results))"
      ],
      "metadata": {
        "id": "Cx31wnJP1POB"
      },
      "execution_count": null,
      "outputs": []
    },
    {
      "cell_type": "code",
      "source": [
        "import matplotlib.pyplot as plt\n",
        "queries = range(1, len(queries_PrecisionTen)+1)\n",
        "\n",
        "plt.figure(figsize=(10, 6))\n",
        "plt.bar(queries, queries_PrecisionTen, color='skyblue', edgecolor='black')\n",
        "plt.xlabel('Query Number')\n",
        "plt.ylabel('Precision Value')\n",
        "plt.title('Precision@10')\n",
        "plt.grid(axis='y')\n",
        "plt.show()"
      ],
      "metadata": {
        "colab": {
          "base_uri": "https://localhost:8080/",
          "height": 564
        },
        "id": "eT7XjUWw-z6r",
        "outputId": "193a1621-42b0-46e7-c62e-ef613a11ddb4"
      },
      "execution_count": null,
      "outputs": [
        {
          "output_type": "display_data",
          "data": {
            "text/plain": [
              "<Figure size 1000x600 with 1 Axes>"
            ],
            "image/png": "[encoded data removed]"
          },
          "metadata": {}
        }
      ]
    },
    {
      "cell_type": "markdown",
      "source": [
        "## MAP"
      ],
      "metadata": {
        "id": "Y5NRxNs41PkI"
      }
    },
    {
      "cell_type": "code",
      "execution_count": 15,
      "metadata": {
        "colab": {
          "base_uri": "https://localhost:8080/"
        },
        "outputId": "7bf48df4-da33-4548-9fa9-74a7694f5e1d",
        "id": "ZB6ZUqh9bKr8"
      },
      "outputs": [
        {
          "output_type": "execute_result",
          "data": {
            "text/plain": [
              "0.265600348158866"
            ]
          },
          "metadata": {},
          "execution_count": 15
        }
      ],
      "source": [
        "Map = calculate_map(query_results, qrels)\n",
        "Map"
      ]
    },
    {
      "cell_type": "markdown",
      "source": [
        "## MRR"
      ],
      "metadata": {
        "id": "3evirSUv1UlY"
      }
    },
    {
      "cell_type": "code",
      "execution_count": null,
      "metadata": {
        "colab": {
          "base_uri": "https://localhost:8080/"
        },
        "outputId": "eff788de-8a08-4478-e243-81f283f9d0df",
        "id": "itHFNm54bPx8"
      },
      "outputs": [
        {
          "output_type": "execute_result",
          "data": {
            "text/plain": [
              "0.025653339399601544"
            ]
          },
          "metadata": {},
          "execution_count": 37
        }
      ],
      "source": [
        "MRR = mean_reciprocal_rank(qrels, query_results)\n",
        "MRR"
      ]
    },
    {
      "cell_type": "markdown",
      "source": [
        "# Metrics With Word embedding"
      ],
      "metadata": {
        "id": "So_XJjGfXgsN"
      }
    },
    {
      "cell_type": "markdown",
      "source": [
        "## Recall"
      ],
      "metadata": {
        "id": "EGo7Ii6cXxIC"
      }
    },
    {
      "cell_type": "code",
      "source": [
        "queries_recall = []\n",
        "\n",
        "for id, query in dataset.queries_iter():\n",
        "  queries_recall.append(recall(id, lang_query_results))\n"
      ],
      "metadata": {
        "id": "5ZXx7YUzXxIK"
      },
      "execution_count": null,
      "outputs": []
    },
    {
      "cell_type": "code",
      "source": [
        "import matplotlib.pyplot as plt\n",
        "queries = range(1, len(queries_recall) + 1)\n",
        "\n",
        "plt.figure(figsize=(10, 6))\n",
        "plt.bar(queries, queries_recall, color='skyblue', edgecolor='black')\n",
        "plt.xlabel('Query Number')\n",
        "plt.ylabel('Recall Value')\n",
        "plt.title('Recall')\n",
        "plt.grid(axis='y')\n",
        "plt.show()"
      ],
      "metadata": {
        "outputId": "2fdb08b1-7898-4c7b-a9ce-16d8b47d18d3",
        "colab": {
          "base_uri": "https://localhost:8080/",
          "height": 564
        },
        "id": "7v9EVAimXxIL"
      },
      "execution_count": null,
      "outputs": [
        {
          "output_type": "display_data",
          "data": {
            "text/plain": [
              "<Figure size 1000x600 with 1 Axes>"
            ],
            "image/png": "[encoded data removed]"
          },
          "metadata": {}
        }
      ]
    },
    {
      "cell_type": "markdown",
      "source": [
        "## Precision@10"
      ],
      "metadata": {
        "id": "Q8TXBVjpXxIL"
      }
    },
    {
      "cell_type": "code",
      "source": [
        "queries_PrecisionTen= []\n",
        "for id, query in dataset.queries_iter():\n",
        "  queries_PrecisionTen.append(precisionAtTen(id, lang_query_results))"
      ],
      "metadata": {
        "id": "LOS5S2pqXxIL"
      },
      "execution_count": null,
      "outputs": []
    },
    {
      "cell_type": "code",
      "source": [
        "import matplotlib.pyplot as plt\n",
        "queries = range(1, 2427)\n",
        "\n",
        "plt.figure(figsize=(10, 6))\n",
        "plt.bar(queries, queries_PrecisionTen, color='skyblue', edgecolor='black')\n",
        "plt.xlabel('Query Number')\n",
        "plt.ylabel('Precision Value')\n",
        "plt.title('Precision@10')\n",
        "plt.grid(axis='y')\n",
        "plt.show()"
      ],
      "metadata": {
        "colab": {
          "base_uri": "https://localhost:8080/",
          "height": 564
        },
        "outputId": "4ad76993-20cc-45a5-bd25-a97f1afe09fd",
        "id": "KXkvTxQbXxIL"
      },
      "execution_count": null,
      "outputs": [
        {
          "output_type": "display_data",
          "data": {
            "text/plain": [
              "<Figure size 1000x600 with 1 Axes>"
            ],
            "image/png": "[encoded data removed]"
          },
          "metadata": {}
        }
      ]
    },
    {
      "cell_type": "markdown",
      "source": [
        "## Map"
      ],
      "metadata": {
        "id": "13-_aeNhJbHx"
      }
    },
    {
      "cell_type": "code",
      "source": [
        "Map = calculate_map(lang_query_results, qrels)\n",
        "Map"
      ],
      "metadata": {
        "colab": {
          "base_uri": "https://localhost:8080/"
        },
        "id": "FWYVRH2SJcrC",
        "outputId": "c3bb9980-b55f-48ab-d6c7-c4c17c91a9c4"
      },
      "execution_count": 15,
      "outputs": [
        {
          "output_type": "execute_result",
          "data": {
            "text/plain": [
              "0.35497986566386225"
            ]
          },
          "metadata": {},
          "execution_count": 15
        }
      ]
    },
    {
      "cell_type": "markdown",
      "source": [
        "## MRR"
      ],
      "metadata": {
        "id": "Fiolj8GuH8k9"
      }
    },
    {
      "cell_type": "code",
      "source": [
        "MRR = mean_reciprocal_rank(qrels, lang_query_results)\n",
        "MRR"
      ],
      "metadata": {
        "colab": {
          "base_uri": "https://localhost:8080/"
        },
        "id": "PQujHFWUH-5e",
        "outputId": "ec7894ad-334d-437a-8040-74f04202a2dc"
      },
      "execution_count": 16,
      "outputs": [
        {
          "output_type": "execute_result",
          "data": {
            "text/plain": [
              "0.034568351445311625"
            ]
          },
          "metadata": {},
          "execution_count": 16
        }
      ]
    }
  ],
  "metadata": {
    "colab": {
      "collapsed_sections": [
        "IR5KEE4EwVlm",
        "q0hC_RKKxJ1a",
        "D-8exnM39npr",
        "6gjlF4Sk2024",
        "mUQKTGbB7zND",
        "3hEUWV3IMa6J",
        "LWPoJt-MEhlO",
        "VGBrRMFkEF6j",
        "Rn618KbE3JwF",
        "1cHkKbwr4p-H",
        "tQN358_J74cS",
        "uRMue295_vBy",
        "Tsv5hDVZApE9",
        "1Cse5oY8B9FD",
        "IHHnkP5hBbTr",
        "3Nc37wWji1I4",
        "WgYtDqvzEh1F",
        "043jcI0p5Pnb",
        "z9B7_zmJrrau",
        "IdIFzGY11xFr",
        "IR7t-v-u2bAb",
        "MvBXkzLPmKy1",
        "URbd-bxs2gmb",
        "NZEbITjzNC9M",
        "IjI4-U2QxCnn",
        "xlKXhDZsCaHQ",
        "M-iRcUt0Cv5Y",
        "VtO2CO8MMlfq",
        "9PttwlsnHW1z",
        "5f9gqWP9HN9X",
        "wjtH1sjgz2nT",
        "mRDPXG_Az-jc",
        "HMY1FMkND7c2",
        "u-hge-mGb0yV",
        "L8McdfQs9HHM",
        "ODqGodEAb-uD",
        "tWTpQcLDdHOt",
        "VgRTuIjuoeop",
        "ujdWaqfYgxQA",
        "BvF3oAFSFb2Q",
        "1hq4bg9JvqDq",
        "JRBr-AEYxKag",
        "R5cbdYxP-esL",
        "x5F7tXO9KHLo",
        "SK6LNGm9IFcS",
        "skKYuMyCJ4n4",
        "SRpWtpcfnQYj",
        "uJaxBb_DvCIY",
        "2-SEjyPQ1HQ7",
        "jSVgBizi1Lbk",
        "Y5NRxNs41PkI",
        "So_XJjGfXgsN",
        "EGo7Ii6cXxIC",
        "Q8TXBVjpXxIL",
        "13-_aeNhJbHx",
        "Fiolj8GuH8k9"
      ],
      "provenance": []
    },
    "kernelspec": {
      "display_name": "Python 3",
      "name": "python3"
    },
    "language_info": {
      "name": "python"
    }
  },
  "nbformat": 4,
  "nbformat_minor": 0
}